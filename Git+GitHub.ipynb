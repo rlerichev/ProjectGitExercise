{
 "cells": [
  {
   "cell_type": "markdown",
   "metadata": {
    "slideshow": {
     "slide_type": "slide"
    }
   },
   "source": [
    "# Sistema de Control de Versiones\n",
    "\n",
    "# *Git*  y *GitHub*\n",
    "\n",
    "<table><td><img src=\"pics/Git-logo.png\" style=\"height:200px;\"/></td><td> </td><td><img src=\"pics/GitHub-logo.png\" style=\"height:400px;\"/></td></table>"
   ]
  },
  {
   "cell_type": "markdown",
   "metadata": {
    "slideshow": {
     "slide_type": "slide"
    }
   },
   "source": [
    "Un *sistema de control de versiones* es un sistema de software que permite mantener la historia de desarrollo de un proyecto (de lo que sea).\n",
    "\n",
    "Es decir, se conservan todas las versiones de todos los archivos de computadora relevantes para el proyecto.\n",
    "\n",
    "Además, estos sistemas permiten y ayudan en el desarrollo colaborativo del proyecto."
   ]
  },
  {
   "cell_type": "markdown",
   "metadata": {
    "slideshow": {
     "slide_type": "slide"
    }
   },
   "source": [
    "#### ¿Para qué?\n",
    "Es esencial en cualquier proyecto controlar las versiones por las siguientes razones:\n",
    "- Respaldo de los archivos del proyecto.\n",
    "- Posibilidad de restablecer versiones anteriores después de cambios catastróficos.\n",
    "- La revisión y control de cambios permite un mejor trabajo colaborativo: no repetir trabajo y evitar trabajo innecesario, uniformizar el manejo de archivos y vista del proyecto. \n",
    "- Los coordinadores de proyecto pueden dar mejor seguimiento al trabajo realizado por los colaboradores."
   ]
  },
  {
   "cell_type": "markdown",
   "metadata": {
    "slideshow": {
     "slide_type": "slide"
    }
   },
   "source": [
    "El sistema de control de versiones ***git*** es multiplataforma, gratis, de código abierto, fácil de aprender (según ellos), veloz y eficiente."
   ]
  },
  {
   "cell_type": "markdown",
   "metadata": {},
   "source": [
    "Pero su característica más importante es ser *distribuido*, es decir, los colaboradores tienen copias completas del proyecto y no requieren una conexión constante a internet. (A diferencia de los sistemas *centralizados*, donde sólo existe un único proyecto completo en un servidor y los colaboradores tienen que acceder a él vía internet o alguna red local.)"
   ]
  },
  {
   "cell_type": "markdown",
   "metadata": {
    "slideshow": {
     "slide_type": "fragment"
    }
   },
   "source": [
    "***git*** fué desarrollado por Linus Torvalds (creador de ***Linux***) y nombrado (por el mismo y de manera egocéntrica como todos sus proyectos, según él) por su personalidad (*git* en jerga de inglés británico significa persona desagradable)."
   ]
  },
  {
   "cell_type": "code",
   "execution_count": null,
   "metadata": {
    "slideshow": {
     "slide_type": "slide"
    }
   },
   "outputs": [],
   "source": [
    "%%html\n",
    "<embed src=\"https://git-scm.com\" width=1500 height=800>"
   ]
  },
  {
   "cell_type": "code",
   "execution_count": null,
   "metadata": {
    "slideshow": {
     "slide_type": "slide"
    }
   },
   "outputs": [],
   "source": [
    "%%html\n",
    "<embed src=\"https://git-scm.com/downloads\" width=1500 height=800>"
   ]
  },
  {
   "cell_type": "markdown",
   "metadata": {
    "slideshow": {
     "slide_type": "slide"
    }
   },
   "source": [
    "***GitHub*** es una plataforma web para alojamiento de proyectos (principalmente de software), que además de integrar sistemas de control de versiones (***git*** y otros) tiene las siguientes características:\n",
    "- Visualización de archivos formateados y con sintaxis resaltada.\n",
    "- Visualización general del proyecto y sus versiones.\n",
    "- Herramienta de gestión de proyectos (interna). También se puede vincular con externas como ***Trello***, ***Monday***, ***Asana***, etc.\n",
    "- Uso prácticamente ilimitado y sin costo para proyectos públicos de código abierto (*open source*)."
   ]
  },
  {
   "cell_type": "code",
   "execution_count": null,
   "metadata": {
    "slideshow": {
     "slide_type": "subslide"
    }
   },
   "outputs": [],
   "source": [
    "%%html\n",
    "<embed src=\"https://github.com\" width=1500 height=800>"
   ]
  },
  {
   "cell_type": "code",
   "execution_count": null,
   "metadata": {
    "slideshow": {
     "slide_type": "slide"
    }
   },
   "outputs": [],
   "source": [
    "%%html\n",
    "<embed src=\"https://github.com/pricing\" width=1500 height=800>"
   ]
  },
  {
   "cell_type": "markdown",
   "metadata": {
    "slideshow": {
     "slide_type": "slide"
    }
   },
   "source": [
    "Una vez instalado ***git***, existe una aplicación `git` en el sistema que se ejecuta en terminal y recibe distintos comandos:\n",
    "```bash\n",
    "    > git <command>\n",
    "```"
   ]
  },
  {
   "cell_type": "markdown",
   "metadata": {
    "slideshow": {
     "slide_type": "fragment"
    }
   },
   "source": [
    "Existen interfaces gráficas (para todos los SOs) para \"facilitar\" el uso de ***git***, pero en este mini-curso sólo veremos los comandos en terminal y la interacción con ***GitHub***."
   ]
  },
  {
   "cell_type": "markdown",
   "metadata": {
    "slideshow": {
     "slide_type": "fragment"
    }
   },
   "source": [
    "De hecho el editor ***Atom*** ya tiene integrados *plugins* de ***git*** y ***GitHub***, por lo que es muy recomendable usarlo (además se le puede instalar un *plugin* de ***Julia*** que se llama ***Juno***)."
   ]
  },
  {
   "cell_type": "markdown",
   "metadata": {
    "slideshow": {
     "slide_type": "slide"
    }
   },
   "source": [
    "## ¡Ayuda!\n",
    "Para conocer todos los comados de ***git*** y su uso general:\n",
    "```bash\n",
    "    > git help\n",
    "```\n",
    "Para conocer el detalle de uso de cada comado:\n",
    "```bash\n",
    "    > git help <command>\n",
    "```"
   ]
  },
  {
   "cell_type": "code",
   "execution_count": null,
   "metadata": {
    "scrolled": false,
    "slideshow": {
     "slide_type": "slide"
    }
   },
   "outputs": [],
   "source": [
    "git help help"
   ]
  },
  {
   "cell_type": "markdown",
   "metadata": {
    "slideshow": {
     "slide_type": "subslide"
    }
   },
   "source": [
    "Por cierto, este es un cuaderno con *kernel* ***Calysto Bash***, por lo que se pueden ejecutar instrucciones de terminal ***bash***."
   ]
  },
  {
   "cell_type": "code",
   "execution_count": null,
   "metadata": {},
   "outputs": [],
   "source": [
    "%%html\n",
    "<embed src=\"https://nbviewer.jupyter.org/github/Calysto/calysto_bash/blob/master/calysto_bash.ipynb\" width=1500 height=800>"
   ]
  },
  {
   "cell_type": "code",
   "execution_count": null,
   "metadata": {
    "slideshow": {
     "slide_type": "subslide"
    }
   },
   "outputs": [],
   "source": [
    "pwd"
   ]
  },
  {
   "cell_type": "code",
   "execution_count": null,
   "metadata": {},
   "outputs": [],
   "source": [
    "ls"
   ]
  },
  {
   "cell_type": "markdown",
   "metadata": {
    "slideshow": {
     "slide_type": "slide"
    }
   },
   "source": [
    "## Creación de un *Proyecto* ***git***\n",
    "\n",
    "Un *Proyecto* ***git*** o *depósito* (*repository*) es una carpeta con archivos y carpetas que será marcada para supervisión por ***git*** y contendrá todas las versiones del proyecto (comprimidas y optimizadas)."
   ]
  },
  {
   "cell_type": "markdown",
   "metadata": {
    "slideshow": {
     "slide_type": "fragment"
    }
   },
   "source": [
    "Para hacer esto hay que (crear e) ingresar a la carpeta del proyecto, por ejemplo\n",
    "```bash\n",
    "    > cd Software/Dev/ProjectGitExercise\n",
    "```\n",
    "\n",
    "y luego se utiliza el comando de \"inicialización\" de ***git***\n",
    "```bash\n",
    "    > git init\n",
    "```\n",
    "(Esto se hace una sóla vez en la vida del proyecto.)"
   ]
  },
  {
   "cell_type": "code",
   "execution_count": null,
   "metadata": {
    "slideshow": {
     "slide_type": "slide"
    }
   },
   "outputs": [],
   "source": [
    "ls -a"
   ]
  },
  {
   "cell_type": "code",
   "execution_count": null,
   "metadata": {},
   "outputs": [],
   "source": [
    "ls .git"
   ]
  },
  {
   "cell_type": "markdown",
   "metadata": {
    "slideshow": {
     "slide_type": "fragment"
    }
   },
   "source": [
    "#### Importante\n",
    "Nunca modificar la los contenidos de la carpeta `.git`, que ahí está toda la hitoria (local) y configuración de supervisión del proyecto. "
   ]
  },
  {
   "cell_type": "markdown",
   "metadata": {
    "slideshow": {
     "slide_type": "slide"
    }
   },
   "source": [
    "El archivo `.gitignore` es un archivo de texto que enlista los archivos y carpetas que ***git*** ignorará en la carpeta del proyecto. Es útil para que nunca se agreguen a la historia del proyecto archivos temporales, intermedios, de notas personales, etc."
   ]
  },
  {
   "cell_type": "code",
   "execution_count": null,
   "metadata": {},
   "outputs": [],
   "source": [
    "gedit .gitignore &"
   ]
  },
  {
   "cell_type": "code",
   "execution_count": null,
   "metadata": {},
   "outputs": [],
   "source": [
    "gedit PersonalNotes.txt &"
   ]
  },
  {
   "cell_type": "markdown",
   "metadata": {
    "slideshow": {
     "slide_type": "slide"
    }
   },
   "source": [
    "También se puede crear un depósito directamente en ***GitHub***.\n",
    "\n",
    "[https://github.com/new](https://github.com/new)"
   ]
  },
  {
   "cell_type": "code",
   "execution_count": null,
   "metadata": {
    "slideshow": {
     "slide_type": "subslide"
    }
   },
   "outputs": [],
   "source": [
    "%%html\n",
    "<embed src=\"https://github.com/new\" width=1500 height=800>"
   ]
  },
  {
   "cell_type": "code",
   "execution_count": null,
   "metadata": {
    "slideshow": {
     "slide_type": "slide"
    }
   },
   "outputs": [],
   "source": [
    "%%html\n",
    "<embed src=\"https://github.com/rlerichev/ProjectGitExercise\" width=1500 height=800>"
   ]
  },
  {
   "cell_type": "markdown",
   "metadata": {
    "slideshow": {
     "slide_type": "slide"
    }
   },
   "source": [
    "## Clones para los colaboradores\n",
    "\n",
    "Para que los colaboradores puedan trabajar en el proyecto necesitan una copia, tienen que \"clonarlo\":\n",
    "```bash\n",
    "    > git clone <url>|<dir> [<dirname>]\n",
    "```\n",
    "`<url>` es una dirección remota, `<dir>` es una carpeta local y `<dirname>` es el nombre (opcional) que del depósito."
   ]
  },
  {
   "cell_type": "code",
   "execution_count": null,
   "metadata": {
    "slideshow": {
     "slide_type": "slide"
    }
   },
   "outputs": [],
   "source": [
    "cd .."
   ]
  },
  {
   "cell_type": "code",
   "execution_count": null,
   "metadata": {},
   "outputs": [],
   "source": [
    "git clone ProjectGitExercise ProjectGitExerciseCopy"
   ]
  },
  {
   "cell_type": "code",
   "execution_count": null,
   "metadata": {},
   "outputs": [],
   "source": [
    "ls -a ProjectGitExerciseCopy"
   ]
  },
  {
   "cell_type": "code",
   "execution_count": null,
   "metadata": {
    "slideshow": {
     "slide_type": "slide"
    }
   },
   "outputs": [],
   "source": [
    "git clone https://github.com/rlerichev/ProjectGitExercise.git ProjectGitExercise2"
   ]
  },
  {
   "cell_type": "code",
   "execution_count": null,
   "metadata": {},
   "outputs": [],
   "source": [
    "ls ProjectGitExercise2"
   ]
  },
  {
   "cell_type": "markdown",
   "metadata": {
    "slideshow": {
     "slide_type": "slide"
    }
   },
   "source": [
    "En ocasiones es recomendable hacer \"clones desnudos\", que conservan una versión comprimida del depósito. Por ejemplo, para un depósito portátil en una memoria USB...\n",
    "```bash\n",
    "    > git clone --bare <url>|<dir> [<dirname>]\n",
    "```"
   ]
  },
  {
   "cell_type": "code",
   "execution_count": null,
   "metadata": {
    "slideshow": {
     "slide_type": "slide"
    }
   },
   "outputs": [],
   "source": [
    "git clone --bare ProjectGitExercise ProjectGitExerciseBare"
   ]
  },
  {
   "cell_type": "code",
   "execution_count": null,
   "metadata": {},
   "outputs": [],
   "source": [
    "ls ProjectGitExerciseBare"
   ]
  },
  {
   "cell_type": "code",
   "execution_count": null,
   "metadata": {},
   "outputs": [],
   "source": [
    "cd ProjectGitExercise"
   ]
  },
  {
   "cell_type": "markdown",
   "metadata": {
    "slideshow": {
     "slide_type": "slide"
    }
   },
   "source": [
    "## Creación y edición de archivos\n",
    "\n",
    "Ahora ya se puede trabajar en el proyecto, o sea, crear y editar archivos del proyecto."
   ]
  },
  {
   "cell_type": "code",
   "execution_count": null,
   "metadata": {},
   "outputs": [],
   "source": [
    "gedit README.md &"
   ]
  },
  {
   "cell_type": "code",
   "execution_count": null,
   "metadata": {
    "slideshow": {
     "slide_type": "slide"
    }
   },
   "outputs": [],
   "source": [
    "gedit NEWS.md &"
   ]
  },
  {
   "cell_type": "code",
   "execution_count": null,
   "metadata": {},
   "outputs": [],
   "source": [
    "ls"
   ]
  },
  {
   "cell_type": "markdown",
   "metadata": {
    "slideshow": {
     "slide_type": "slide"
    }
   },
   "source": [
    "El comando de \"estado\" de ***git*** es muy útil para saber que archivos se han modificado y cuales no están rastreados\n",
    "```bash\n",
    "    > git status [-s]\n",
    "```\n",
    "Con la opción `-s` se muestra una versión condensada (*small*) del estado."
   ]
  },
  {
   "cell_type": "code",
   "execution_count": null,
   "metadata": {
    "slideshow": {
     "slide_type": "slide"
    }
   },
   "outputs": [],
   "source": [
    "git status"
   ]
  },
  {
   "cell_type": "code",
   "execution_count": null,
   "metadata": {
    "slideshow": {
     "slide_type": "slide"
    }
   },
   "outputs": [],
   "source": [
    "git status -s"
   ]
  },
  {
   "cell_type": "markdown",
   "metadata": {},
   "source": [
    "`M` es \"modificado\", `??` es \"no rastreado\"."
   ]
  },
  {
   "cell_type": "markdown",
   "metadata": {
    "slideshow": {
     "slide_type": "slide"
    }
   },
   "source": [
    "Para deshacer todos los cambios de realizados en un archivo `<file>` se puede usar el comando \"restaurar\":\n",
    "```bash\n",
    "    > git restore <file>\n",
    "```"
   ]
  },
  {
   "cell_type": "code",
   "execution_count": null,
   "metadata": {
    "slideshow": {
     "slide_type": "slide"
    }
   },
   "outputs": [],
   "source": [
    "git restore README.md"
   ]
  },
  {
   "cell_type": "code",
   "execution_count": null,
   "metadata": {},
   "outputs": [],
   "source": [
    "git status -s"
   ]
  },
  {
   "cell_type": "markdown",
   "metadata": {
    "slideshow": {
     "slide_type": "slide"
    }
   },
   "source": [
    "Otro comando útil al desarrollar es la búsqueda de fragmentos de código en los archivos del proyecto. Para esto existe el comando de \"búsqueda global de patrones con expresiones regulares\" (\"**G**lobal search / **R**egular **E**xpression / **P**attern\"):\n",
    "```bash\n",
    "    > git grep \"<regexp>\"\n",
    "```"
   ]
  },
  {
   "cell_type": "markdown",
   "metadata": {
    "slideshow": {
     "slide_type": "slide"
    }
   },
   "source": [
    "Buscando todas la líneas de texto que inicien con la palabra \"Play\" o \"play\"..."
   ]
  },
  {
   "cell_type": "code",
   "execution_count": null,
   "metadata": {
    "slideshow": {
     "slide_type": "-"
    }
   },
   "outputs": [],
   "source": [
    "git grep \"[Pp]lay*\""
   ]
  },
  {
   "cell_type": "markdown",
   "metadata": {
    "slideshow": {
     "slide_type": "slide"
    }
   },
   "source": [
    "## Añadir archivos y confirmar versiones\n",
    "\n",
    "Una vez creados archivos se pueden \"añadir\" al depósito y una vez satisfechos con la edición en una sesión de trabajo se pueden \"confirmar\" las versiones en el depósito..."
   ]
  },
  {
   "cell_type": "markdown",
   "metadata": {
    "slideshow": {
     "slide_type": "fragment"
    }
   },
   "source": [
    "Pero antes hay que saber que un depósito de ***git*** funciona en varias capas:\n",
    "- La *carpeta de trabajo* (*working directory*), que es la del sistema operativo que contiene el proyecto.\n",
    "- El *índice* (*INDEX*) que es una *zona de armado* (*staging area*) donde se van agregando archivos para ser supervisados por ***git***.\n",
    "- El *depósito local* es donde está localmente toda la historia y tiene la última la versión (identificada por *HEAD*).\n",
    "- El *depósito remoto* (o tal vez sólo *externo*) es el depósito original de donde se clonó el depósito local."
   ]
  },
  {
   "cell_type": "markdown",
   "metadata": {
    "slideshow": {
     "slide_type": "slide"
    }
   },
   "source": [
    "Para añadir nuevos archivos (o todos los archivos en cierta carpeta) al índice para ser rastreados, usar el comando \"añadir\":\n",
    "```bash\n",
    "    > git add <file>|<dir> [<file1> ... <fileN> <dir1> ... <dirM>]\n",
    "```\n",
    "Nota: No se añaden carpetas vacías."
   ]
  },
  {
   "cell_type": "code",
   "execution_count": null,
   "metadata": {
    "slideshow": {
     "slide_type": "slide"
    }
   },
   "outputs": [],
   "source": [
    "mkdir test"
   ]
  },
  {
   "cell_type": "code",
   "execution_count": null,
   "metadata": {
    "slideshow": {
     "slide_type": "-"
    }
   },
   "outputs": [],
   "source": [
    "git add NEWS.md test"
   ]
  },
  {
   "cell_type": "code",
   "execution_count": null,
   "metadata": {},
   "outputs": [],
   "source": [
    "git status"
   ]
  },
  {
   "cell_type": "code",
   "execution_count": null,
   "metadata": {
    "slideshow": {
     "slide_type": "slide"
    }
   },
   "outputs": [],
   "source": [
    "gedit test/test.jl &"
   ]
  },
  {
   "cell_type": "code",
   "execution_count": null,
   "metadata": {},
   "outputs": [],
   "source": [
    "git add test"
   ]
  },
  {
   "cell_type": "code",
   "execution_count": null,
   "metadata": {},
   "outputs": [],
   "source": [
    "git status"
   ]
  },
  {
   "cell_type": "markdown",
   "metadata": {
    "slideshow": {
     "slide_type": "slide"
    }
   },
   "source": [
    "Una vez satisfechos con la edición, se tienen que añadir los archivos modificados con `add` y con el comando \"confirmar\" se establece la versión:\n",
    "```bash\n",
    "    > git commit -m \"Message\"\n",
    "```\n",
    "La opción `m` indica que se aplicará el `\"Message\"`, que es un breve texto explicativo de los cambios realizados (en inglés)."
   ]
  },
  {
   "cell_type": "markdown",
   "metadata": {
    "slideshow": {
     "slide_type": "fragment"
    }
   },
   "source": [
    "Si se quieren añadir todos los archivos modificados, se puede usar la opción `a` al \"confirmar\":\n",
    "```bash\n",
    "    > git commit -am \"Message\"\n",
    "```"
   ]
  },
  {
   "cell_type": "code",
   "execution_count": null,
   "metadata": {
    "slideshow": {
     "slide_type": "slide"
    }
   },
   "outputs": [],
   "source": [
    "git commit -am \"Created files NEWS.md and test/test.jl. PersonalNotes.txt added to .gitignore.\""
   ]
  },
  {
   "cell_type": "code",
   "execution_count": null,
   "metadata": {},
   "outputs": [],
   "source": [
    "ls -a"
   ]
  },
  {
   "cell_type": "code",
   "execution_count": null,
   "metadata": {},
   "outputs": [],
   "source": [
    "git status"
   ]
  },
  {
   "cell_type": "markdown",
   "metadata": {
    "slideshow": {
     "slide_type": "slide"
    }
   },
   "source": [
    "Existe la posibilidad de que se nos haya olvidado agregar algo antes de confirmar la versión, pero en ese caso lo podemos solucionar con agregar lo necesario y luego usar la opción \"enmendar\" al confirmar:\n",
    "```bash\n",
    "    > git add <forgotten_files>\n",
    "    > git commit --amend -m \"Message\"\n",
    "```"
   ]
  },
  {
   "cell_type": "code",
   "execution_count": null,
   "metadata": {
    "slideshow": {
     "slide_type": "slide"
    }
   },
   "outputs": [],
   "source": [
    "gedit README.md &"
   ]
  },
  {
   "cell_type": "code",
   "execution_count": null,
   "metadata": {
    "slideshow": {
     "slide_type": "-"
    }
   },
   "outputs": [],
   "source": [
    "git add README.md"
   ]
  },
  {
   "cell_type": "code",
   "execution_count": null,
   "metadata": {},
   "outputs": [],
   "source": [
    "git commit --amend -m \"Created files NEWS.md and test/test.jl. PersonalNotes.txt Added to .gitignore. Typo corrected in README.md\""
   ]
  },
  {
   "cell_type": "markdown",
   "metadata": {
    "slideshow": {
     "slide_type": "slide"
    }
   },
   "source": [
    "<table><td><img src=\"pics/git_trees.png\" style=\"height:400px;\"/></td></table>"
   ]
  },
  {
   "cell_type": "markdown",
   "metadata": {
    "slideshow": {
     "slide_type": "slide"
    }
   },
   "source": [
    "<table><td><img src=\"pics/git_status.png\" style=\"height:400px;\"/></td></table>"
   ]
  },
  {
   "cell_type": "markdown",
   "metadata": {
    "slideshow": {
     "slide_type": "slide"
    }
   },
   "source": [
    "## Renombrar, mover,  borrar\n",
    "Claro, como parte de la edición se pueden renombrar o mover archivos o carpetas o borrarlos si es necesario, pero si esos archivos están en el *INDEX* hay que avisarle a ***git***. Para mover o renombrar hay que usar el comando \"mover\":\n",
    "```bash\n",
    "    > git mv ( <name> <newname> )|( <name1> ... <nameN> <dir> )\n",
    "```"
   ]
  },
  {
   "cell_type": "code",
   "execution_count": null,
   "metadata": {
    "slideshow": {
     "slide_type": "slide"
    }
   },
   "outputs": [],
   "source": [
    "git mv test/test.jl test/test01.jl"
   ]
  },
  {
   "cell_type": "code",
   "execution_count": null,
   "metadata": {},
   "outputs": [],
   "source": [
    "git status"
   ]
  },
  {
   "cell_type": "markdown",
   "metadata": {
    "slideshow": {
     "slide_type": "slide"
    }
   },
   "source": [
    "Para borrar archivos hay que usar el comando \"remover\":\n",
    "```bash\n",
    "    > git rm <file> [<file1> ... <fileN>]\n",
    "```"
   ]
  },
  {
   "cell_type": "code",
   "execution_count": null,
   "metadata": {
    "slideshow": {
     "slide_type": "slide"
    }
   },
   "outputs": [],
   "source": [
    "git rm NEWS.md"
   ]
  },
  {
   "cell_type": "code",
   "execution_count": null,
   "metadata": {},
   "outputs": [],
   "source": [
    "git status"
   ]
  },
  {
   "cell_type": "code",
   "execution_count": null,
   "metadata": {
    "slideshow": {
     "slide_type": "slide"
    }
   },
   "outputs": [],
   "source": [
    "git commit -am \"Moving test/test.jl to test/test01.jl and erasing file NEWS.md.\""
   ]
  },
  {
   "cell_type": "code",
   "execution_count": null,
   "metadata": {},
   "outputs": [],
   "source": [
    "git status"
   ]
  },
  {
   "cell_type": "code",
   "execution_count": null,
   "metadata": {},
   "outputs": [],
   "source": [
    "ls"
   ]
  },
  {
   "cell_type": "markdown",
   "metadata": {
    "slideshow": {
     "slide_type": "slide"
    }
   },
   "source": [
    "## Compartir nuestro trabajo con todo mundo\n",
    "Ahora que ya tenemos nuestra versión local, la podemos compartir con los demás colaboradores enviándola al depósito original del que se clonó o algún otro depósito. Para esto se usa el comando \"empujar\":\n",
    "```bash\n",
    "    > git push [<repository>]\n",
    "```\n",
    "donde `<repository>` es la dirección web de un depósito remoto o la ruta de un depósito externo y desnudo en la misma computadora. Si este parámetro se omite entonces se usará el depósito origen."
   ]
  },
  {
   "cell_type": "code",
   "execution_count": null,
   "metadata": {},
   "outputs": [],
   "source": []
  },
  {
   "cell_type": "code",
   "execution_count": null,
   "metadata": {
    "slideshow": {
     "slide_type": "slide"
    }
   },
   "outputs": [],
   "source": [
    "git push"
   ]
  },
  {
   "cell_type": "code",
   "execution_count": null,
   "metadata": {
    "slideshow": {
     "slide_type": "slide"
    }
   },
   "outputs": [],
   "source": [
    "%%html\n",
    "<embed src=\"https://github.com/rlerichev/ProjectGitExercise\" width=1500 height=800>"
   ]
  },
  {
   "cell_type": "markdown",
   "metadata": {
    "slideshow": {
     "slide_type": "slide"
    }
   },
   "source": [
    "Para conocer los depósitos remotos asociados al depósito local, se puede usar el comando \"remoto\":\n",
    "```bash\n",
    "    > git remote -v\n",
    "```\n",
    "El depósito original del que se clonó este depósito local tiene el nombre `origin` (\"origen\")."
   ]
  },
  {
   "cell_type": "code",
   "execution_count": null,
   "metadata": {},
   "outputs": [],
   "source": [
    "git remote -v"
   ]
  },
  {
   "cell_type": "markdown",
   "metadata": {
    "slideshow": {
     "slide_type": "slide"
    }
   },
   "source": [
    "Ese mismo momando \"remoto\" sirve para agregar otros depósitos remotos (para poder usarlos con el comando \"empujar\"):\n",
    "```bash\n",
    "    > git remote add <name> <url>|<dir>\n",
    "```\n",
    "donde `<name>` es el nombre para el depósito remoto en `<url>` o `<dir>` (que no sea `origin`) que tiene que ser desnudo."
   ]
  },
  {
   "cell_type": "code",
   "execution_count": null,
   "metadata": {
    "slideshow": {
     "slide_type": "slide"
    }
   },
   "outputs": [],
   "source": [
    "git remote add loc_extern ../ProjectGitExerciseBare"
   ]
  },
  {
   "cell_type": "code",
   "execution_count": null,
   "metadata": {},
   "outputs": [],
   "source": [
    "git remote -v"
   ]
  },
  {
   "cell_type": "markdown",
   "metadata": {
    "slideshow": {
     "slide_type": "slide"
    }
   },
   "source": [
    "## Actualizar versiones compartidas por otros\n",
    "Todos los colaboradores mandan sus versiones al depósito origen, así que para seguir trabajar de manera colaborativa hay que conseguir esas nuevas versiones. Para esto se usa el comando \"traer\":\n",
    "```bash\n",
    "    > git fetch [<repository>]\n",
    "```"
   ]
  },
  {
   "cell_type": "code",
   "execution_count": null,
   "metadata": {
    "slideshow": {
     "slide_type": "slide"
    }
   },
   "outputs": [],
   "source": [
    "cd ../ProjectGitExercise2"
   ]
  },
  {
   "cell_type": "code",
   "execution_count": null,
   "metadata": {},
   "outputs": [],
   "source": [
    "ls"
   ]
  },
  {
   "cell_type": "code",
   "execution_count": null,
   "metadata": {},
   "outputs": [],
   "source": [
    "git fetch"
   ]
  },
  {
   "cell_type": "code",
   "execution_count": null,
   "metadata": {},
   "outputs": [],
   "source": [
    "ls"
   ]
  },
  {
   "cell_type": "markdown",
   "metadata": {
    "slideshow": {
     "slide_type": "slide"
    }
   },
   "source": [
    "Una vez conseguidas las versiones, estas se tienen que combinar con nuestro trabajo local de la versión local *HEAD*. Para hacer esto se usa el comando \"fusionar\":\n",
    "```bash\n",
    "    > git merge <commitid>\n",
    "```\n",
    "donde `<commitid>` es el identificador de una versión.\n",
    "\n",
    "Para fusionar con la versión traída más nueva se debe usar el identificador *FETCH_HEAD*."
   ]
  },
  {
   "cell_type": "code",
   "execution_count": null,
   "metadata": {
    "slideshow": {
     "slide_type": "slide"
    }
   },
   "outputs": [],
   "source": [
    "git merge FETCH_HEAD"
   ]
  },
  {
   "cell_type": "code",
   "execution_count": null,
   "metadata": {},
   "outputs": [],
   "source": [
    "ls -a"
   ]
  },
  {
   "cell_type": "markdown",
   "metadata": {
    "slideshow": {
     "slide_type": "slide"
    }
   },
   "source": [
    "Para simplificar el uso de \"traer\" y \"fusionar\" con la versión nueva que se trajo, existe el comando \"jalar\" que hace las dos cosas:\n",
    "```bash\n",
    "    > git pull [<repository>]\n",
    "```"
   ]
  },
  {
   "cell_type": "code",
   "execution_count": null,
   "metadata": {
    "slideshow": {
     "slide_type": "slide"
    }
   },
   "outputs": [],
   "source": [
    "git pull"
   ]
  },
  {
   "cell_type": "markdown",
   "metadata": {
    "slideshow": {
     "slide_type": "slide"
    }
   },
   "source": [
    "<table><td><img src=\"pics/git_stages.png\" style=\"height:600px;\"/></td></table>"
   ]
  },
  {
   "cell_type": "markdown",
   "metadata": {
    "slideshow": {
     "slide_type": "slide"
    }
   },
   "source": [
    "## Historia, diferencias y culpas\n",
    "Para conocer la historia del proyecto a *grosso modo*, es decir, quién hizo qué en cuál versión y cuándo, existe el comando \"registro\":\n",
    "```bash\n",
    "    > git log\n",
    "```"
   ]
  },
  {
   "cell_type": "code",
   "execution_count": null,
   "metadata": {
    "slideshow": {
     "slide_type": "slide"
    }
   },
   "outputs": [],
   "source": [
    "cd ../ProjectGitExercise"
   ]
  },
  {
   "cell_type": "code",
   "execution_count": null,
   "metadata": {
    "scrolled": false
   },
   "outputs": [],
   "source": [
    "git log"
   ]
  },
  {
   "cell_type": "code",
   "execution_count": null,
   "metadata": {
    "slideshow": {
     "slide_type": "slide"
    }
   },
   "outputs": [],
   "source": [
    "%%html\n",
    "<embed src=\"https://github.com/rlerichev/ProjectGitExercise/commits/master\" width=1500 height=800>"
   ]
  },
  {
   "cell_type": "markdown",
   "metadata": {
    "slideshow": {
     "slide_type": "slide"
    }
   },
   "source": [
    "Se pueden conocer los cambios realizados a archivos entre la carpeta de trabajo, el *INDEX* y las distintas versiones en el depósito. Para esto existe el comando \"diferenciar\":\n",
    "```bash\n",
    "    > git diff [<commitid>] <file>\n",
    "```\n",
    "donde `<commitid>` es un identificador de  versión, como *HEAD*, *HEAD~3* (tres versiones antes de *HEAD*) o esos números asociados a las versiones  que aparecen cuando se ve la historia (`git log`)."
   ]
  },
  {
   "cell_type": "code",
   "execution_count": null,
   "metadata": {
    "slideshow": {
     "slide_type": "slide"
    }
   },
   "outputs": [],
   "source": [
    "git diff HEAD~2 README.md"
   ]
  },
  {
   "cell_type": "markdown",
   "metadata": {
    "slideshow": {
     "slide_type": "slide"
    }
   },
   "source": [
    "También se puede conocer toda la historia de edición de un archivo. Para esto se usa el comando \"culpar\":\n",
    "```bash\n",
    "    > git blame <file>\n",
    "```\n",
    "Al desarrollar proyectos software es normal cometer errores (se crean *bugs*) y es útil ver que cambios se realizaron desde la última versión funcional, para encontrar el código \"culpable\" (y hasta el colaborador \"culpable\")."
   ]
  },
  {
   "cell_type": "code",
   "execution_count": null,
   "metadata": {
    "slideshow": {
     "slide_type": "slide"
    }
   },
   "outputs": [],
   "source": [
    "git blame README.md"
   ]
  },
  {
   "cell_type": "code",
   "execution_count": null,
   "metadata": {
    "slideshow": {
     "slide_type": "slide"
    }
   },
   "outputs": [],
   "source": [
    "%%html\n",
    "<embed src=\"https://github.com/rlerichev/ProjectGitExercise/blame/master/README.md\" width=1500 height=800>"
   ]
  },
  {
   "cell_type": "markdown",
   "metadata": {
    "slideshow": {
     "slide_type": "slide"
    }
   },
   "source": [
    "En ocasiones es útil regresar archivos a alguna versión pasada, para esto se usa el commando \"revisar afuera\"\n",
    "```bash\n",
    "    > git checkout [<commitid>] -- <file> [<file1> ... <fileN>]\n",
    "```"
   ]
  },
  {
   "cell_type": "code",
   "execution_count": null,
   "metadata": {
    "slideshow": {
     "slide_type": "slide"
    }
   },
   "outputs": [],
   "source": [
    "git checkout HEAD~2 -- README.md"
   ]
  },
  {
   "cell_type": "code",
   "execution_count": null,
   "metadata": {},
   "outputs": [],
   "source": [
    "gedit README.md &"
   ]
  },
  {
   "cell_type": "code",
   "execution_count": null,
   "metadata": {
    "slideshow": {
     "slide_type": "-"
    }
   },
   "outputs": [],
   "source": [
    "git status"
   ]
  },
  {
   "cell_type": "code",
   "execution_count": null,
   "metadata": {
    "slideshow": {
     "slide_type": "slide"
    }
   },
   "outputs": [],
   "source": [
    "git checkout HEAD -- README.md"
   ]
  },
  {
   "cell_type": "code",
   "execution_count": null,
   "metadata": {},
   "outputs": [],
   "source": [
    "git status"
   ]
  },
  {
   "cell_type": "markdown",
   "metadata": {
    "slideshow": {
     "slide_type": "slide"
    }
   },
   "source": [
    "En casos extremos, también puede regresarse todo en la carpeta de trabajo a versiones anteriores:\n",
    "```bash\n",
    "    > git checkout [<commitid>]\n",
    "```"
   ]
  },
  {
   "cell_type": "code",
   "execution_count": null,
   "metadata": {
    "slideshow": {
     "slide_type": "slide"
    }
   },
   "outputs": [],
   "source": [
    "git checkout HEAD~2"
   ]
  },
  {
   "cell_type": "code",
   "execution_count": null,
   "metadata": {},
   "outputs": [],
   "source": [
    "ls"
   ]
  },
  {
   "cell_type": "markdown",
   "metadata": {
    "slideshow": {
     "slide_type": "slide"
    }
   },
   "source": [
    "Pero podemos regresar fácilmente a la última versión con\n",
    "```bash\n",
    "    > git checkout master\n",
    "```"
   ]
  },
  {
   "cell_type": "code",
   "execution_count": null,
   "metadata": {
    "slideshow": {
     "slide_type": "slide"
    }
   },
   "outputs": [],
   "source": [
    "git checkout master"
   ]
  },
  {
   "cell_type": "code",
   "execution_count": null,
   "metadata": {},
   "outputs": [],
   "source": [
    "git status"
   ]
  },
  {
   "cell_type": "code",
   "execution_count": null,
   "metadata": {},
   "outputs": [],
   "source": [
    "ls"
   ]
  },
  {
   "cell_type": "markdown",
   "metadata": {
    "slideshow": {
     "slide_type": "slide"
    }
   },
   "source": [
    "## Ramas\n",
    "Una funcionalidad muy interesante de ***git*** son las *ramas*. Una rama es un desarrollo paralelo del proyecto creado a partir de algún punto en la historia. Estas ramas también se pueden fusionar con otras en puntos de la historia.\n",
    "\n",
    "Esto es útil para crear desarrollos de códigos de prueba o experimentales, de trabajo paralelo de colaboradores, etc.\n",
    "\n",
    "Por defecto cada depósito se crea inicialmente con la rama principal *master*."
   ]
  },
  {
   "cell_type": "markdown",
   "metadata": {
    "slideshow": {
     "slide_type": "slide"
    }
   },
   "source": [
    "<table><td><img src=\"pics/git_branches.png\" style=\"height:600px;\"/></td></table>"
   ]
  },
  {
   "cell_type": "markdown",
   "metadata": {
    "slideshow": {
     "slide_type": "slide"
    }
   },
   "source": [
    "Para mostrar las ramas se utiliza el comando \"rama\"\n",
    "```bash\n",
    "    > git branch\n",
    "```\n",
    "La rama actual se marca con `*`."
   ]
  },
  {
   "cell_type": "code",
   "execution_count": null,
   "metadata": {},
   "outputs": [],
   "source": [
    "git branch"
   ]
  },
  {
   "cell_type": "markdown",
   "metadata": {
    "slideshow": {
     "slide_type": "slide"
    }
   },
   "source": [
    "Para crear y entrar a una rama a partir de la rama actual utiliza el comando \"ramificar\"\n",
    "```bash\n",
    "    > git branch <name>\n",
    "```\n",
    "donde `<name>` es el nombre de la nueva rama (que no sea *master*)."
   ]
  },
  {
   "cell_type": "code",
   "execution_count": null,
   "metadata": {
    "slideshow": {
     "slide_type": "slide"
    }
   },
   "outputs": [],
   "source": [
    "git branch rlv"
   ]
  },
  {
   "cell_type": "code",
   "execution_count": null,
   "metadata": {},
   "outputs": [],
   "source": [
    "git branch"
   ]
  },
  {
   "cell_type": "markdown",
   "metadata": {
    "slideshow": {
     "slide_type": "slide"
    }
   },
   "source": [
    "Se puede cambiar el directorio de trabajo a las distintas ramas con el comando \"revisar afuera\":\n",
    "```bash\n",
    "    > git checkout <branch>\n",
    "```\n",
    "donde `<branch>` es el nombre de una rama."
   ]
  },
  {
   "cell_type": "code",
   "execution_count": null,
   "metadata": {
    "slideshow": {
     "slide_type": "slide"
    }
   },
   "outputs": [],
   "source": [
    "git checkout rlv"
   ]
  },
  {
   "cell_type": "code",
   "execution_count": null,
   "metadata": {},
   "outputs": [],
   "source": [
    "echo \"f(x::Number)=x^2\" > src/fun.jl"
   ]
  },
  {
   "cell_type": "code",
   "execution_count": null,
   "metadata": {},
   "outputs": [],
   "source": [
    "ls src"
   ]
  },
  {
   "cell_type": "code",
   "execution_count": null,
   "metadata": {},
   "outputs": [],
   "source": [
    "git status -s"
   ]
  },
  {
   "cell_type": "code",
   "execution_count": null,
   "metadata": {
    "slideshow": {
     "slide_type": "slide"
    }
   },
   "outputs": [],
   "source": [
    "git add src"
   ]
  },
  {
   "cell_type": "code",
   "execution_count": null,
   "metadata": {},
   "outputs": [],
   "source": [
    "git status -s"
   ]
  },
  {
   "cell_type": "code",
   "execution_count": null,
   "metadata": {},
   "outputs": [],
   "source": [
    "git commit -m \"Branch 'rlv' initial work.\""
   ]
  },
  {
   "cell_type": "code",
   "execution_count": null,
   "metadata": {
    "slideshow": {
     "slide_type": "slide"
    }
   },
   "outputs": [],
   "source": [
    "git checkout master"
   ]
  },
  {
   "cell_type": "code",
   "execution_count": null,
   "metadata": {},
   "outputs": [],
   "source": [
    "ls"
   ]
  },
  {
   "cell_type": "markdown",
   "metadata": {
    "slideshow": {
     "slide_type": "slide"
    }
   },
   "source": [
    "<table><td><img src=\"pics/git_branchmerge.png\" style=\"height:200px;\"/></td></table>\n",
    "\n",
    "Para fusionar la rama actual con otras ramas se usa el comando \"fusionar\":\n",
    "```bash\n",
    "    > git merge <branch> [<branch1> ... <branchN>]\n",
    "```"
   ]
  },
  {
   "cell_type": "code",
   "execution_count": null,
   "metadata": {},
   "outputs": [],
   "source": [
    "git branch"
   ]
  },
  {
   "cell_type": "code",
   "execution_count": null,
   "metadata": {
    "slideshow": {
     "slide_type": "slide"
    }
   },
   "outputs": [],
   "source": [
    "git merge rlv"
   ]
  },
  {
   "cell_type": "code",
   "execution_count": null,
   "metadata": {},
   "outputs": [],
   "source": [
    "ls src"
   ]
  },
  {
   "cell_type": "markdown",
   "metadata": {
    "slideshow": {
     "slide_type": "slide"
    }
   },
   "source": [
    "Se pueden borrar ramas:\n",
    "```bash\n",
    "    > git branch -d <name>\n",
    "```\n",
    "\n",
    "Si no hay versiones en la rama `<name>`, se borra la rama sin más.\n",
    "\n",
    "Si hay versiones en la rama `<name>`, se hace una fusión con la rama padre y luego se borra."
   ]
  },
  {
   "cell_type": "code",
   "execution_count": null,
   "metadata": {
    "slideshow": {
     "slide_type": "slide"
    }
   },
   "outputs": [],
   "source": [
    "git push"
   ]
  },
  {
   "cell_type": "code",
   "execution_count": null,
   "metadata": {
    "scrolled": true,
    "slideshow": {
     "slide_type": "slide"
    }
   },
   "outputs": [],
   "source": [
    "%%html\n",
    "<embed src=\"https://github.com/rlerichev/ProjectGitExercise\" width=1500 height=800>"
   ]
  },
  {
   "cell_type": "markdown",
   "metadata": {
    "slideshow": {
     "slide_type": "slide"
    }
   },
   "source": [
    "## El problema de la edición colaborativa\n",
    "<table><td><img src=\"pics/git_colaborative.png\" style=\"height:600px;\"/></td></table>"
   ]
  },
  {
   "cell_type": "markdown",
   "metadata": {
    "slideshow": {
     "slide_type": "slide"
    }
   },
   "source": [
    "<table><td><img src=\"pics/git_conflict.png\" style=\"height:600px;\"/></td></table>"
   ]
  },
  {
   "cell_type": "markdown",
   "metadata": {
    "slideshow": {
     "slide_type": "slide"
    }
   },
   "source": [
    "<table><td><img src=\"pics/git_merge.png\" style=\"height:600px;\"/></td></table>"
   ]
  },
  {
   "cell_type": "markdown",
   "metadata": {
    "slideshow": {
     "slide_type": "slide"
    }
   },
   "source": [
    "## Resolviendo conflictos\n",
    "Afortunadamente ***git*** fusiona los archivos de distintas versiones de manera \"inteligente\" y automática en la mayoría de los casos.\n",
    "\n",
    "Pero en algunos casos ***git*** no puede fusionar por si solo y entonces se dice que hay un *conflicto* de versiones (que requiere intervención humana para resolverse).\n",
    "\n",
    "***git*** notifica los conflictos al intentar una fusión (al usar los comandos `merge` o `pull`)."
   ]
  },
  {
   "cell_type": "code",
   "execution_count": null,
   "metadata": {
    "slideshow": {
     "slide_type": "slide"
    }
   },
   "outputs": [],
   "source": [
    "gedit src/fun.jl &"
   ]
  },
  {
   "cell_type": "code",
   "execution_count": null,
   "metadata": {},
   "outputs": [],
   "source": [
    "git commit -am \"f with z in fun.jl.\""
   ]
  },
  {
   "cell_type": "code",
   "execution_count": null,
   "metadata": {
    "slideshow": {
     "slide_type": "slide"
    }
   },
   "outputs": [],
   "source": [
    "git checkout rlv"
   ]
  },
  {
   "cell_type": "code",
   "execution_count": null,
   "metadata": {},
   "outputs": [],
   "source": [
    "gedit src/fun.jl &"
   ]
  },
  {
   "cell_type": "code",
   "execution_count": null,
   "metadata": {},
   "outputs": [],
   "source": [
    "git commit -am \"f with y in fun.jl.\""
   ]
  },
  {
   "cell_type": "code",
   "execution_count": null,
   "metadata": {},
   "outputs": [],
   "source": [
    "ls"
   ]
  },
  {
   "cell_type": "code",
   "execution_count": null,
   "metadata": {},
   "outputs": [],
   "source": [
    "git branch"
   ]
  },
  {
   "cell_type": "code",
   "execution_count": null,
   "metadata": {},
   "outputs": [],
   "source": [
    "git status"
   ]
  },
  {
   "cell_type": "code",
   "execution_count": null,
   "metadata": {
    "slideshow": {
     "slide_type": "slide"
    }
   },
   "outputs": [],
   "source": [
    "git merge master"
   ]
  },
  {
   "cell_type": "markdown",
   "metadata": {
    "slideshow": {
     "slide_type": "slide"
    }
   },
   "source": [
    "Para revisar los detalles de los conflictos es muy útil el comando \"diferenciar\":\n",
    "- Para ver todas las diferencias con conflictos en la carpeta de trabajo:\n",
    "```bash\n",
    "    > git diff\n",
    "```\n",
    "- Para ver todas las diferencias con conflictos de un archivo, con la versión antes del intento de fusión:\n",
    "```bash\n",
    "    > git diff --base <file>\n",
    "```\n",
    "- Para ver todas las diferencias con conflictos de un archivo, con la versión remota:\n",
    "```bash\n",
    "    > git diff --theirs <file>\n",
    "```\n",
    "- Para ver todas las diferencias con conflictos de un archivo, con la versión local:\n",
    "```bash\n",
    "    > git diff --ours <file>\n",
    "```"
   ]
  },
  {
   "cell_type": "code",
   "execution_count": null,
   "metadata": {
    "slideshow": {
     "slide_type": "slide"
    }
   },
   "outputs": [],
   "source": [
    "git diff"
   ]
  },
  {
   "cell_type": "code",
   "execution_count": null,
   "metadata": {
    "slideshow": {
     "slide_type": "slide"
    }
   },
   "outputs": [],
   "source": [
    "git diff --base src/fun.jl"
   ]
  },
  {
   "cell_type": "code",
   "execution_count": null,
   "metadata": {
    "slideshow": {
     "slide_type": "slide"
    }
   },
   "outputs": [],
   "source": [
    "git diff --theirs src/fun.jl"
   ]
  },
  {
   "cell_type": "code",
   "execution_count": null,
   "metadata": {
    "slideshow": {
     "slide_type": "slide"
    }
   },
   "outputs": [],
   "source": [
    "git diff --ours src/fun.jl"
   ]
  },
  {
   "cell_type": "markdown",
   "metadata": {
    "slideshow": {
     "slide_type": "slide"
    }
   },
   "source": [
    "En para resolver conflictos, se debe hacer lo siguiente:\n",
    "- Para arreglar los archivos hay 3 opciones disjuntas:\n",
    "    - Hacer una edición cuidadosa de los archivos conflictuados para arreglarlos.\n",
    "    - Aceptar los cambios remotos como correctos sobreecribiendo lo local con \n",
    "    ```bash\n",
    "        > git checkout --theirs <file> [<file1> ... <fileN>]\n",
    "    ```\n",
    "    - Indicar que los cambios locales son los correctos con\n",
    "    ```bash\n",
    "        > git checkout --ours <file> [<file1> ... <fileN>]\n",
    "    ```\n",
    "- Añadir con `add` otra vez archivos involucrados en conflictos.\n",
    "- Hacer nueva versión con `commit` indicando que se resolvieron los conflictos."
   ]
  },
  {
   "cell_type": "code",
   "execution_count": null,
   "metadata": {
    "slideshow": {
     "slide_type": "slide"
    }
   },
   "outputs": [],
   "source": [
    "git checkout --theirs src/fun.jl"
   ]
  },
  {
   "cell_type": "code",
   "execution_count": null,
   "metadata": {},
   "outputs": [],
   "source": [
    "git status"
   ]
  },
  {
   "cell_type": "code",
   "execution_count": null,
   "metadata": {
    "slideshow": {
     "slide_type": "slide"
    }
   },
   "outputs": [],
   "source": [
    "git add src/fun.jl"
   ]
  },
  {
   "cell_type": "code",
   "execution_count": null,
   "metadata": {},
   "outputs": [],
   "source": [
    "git status"
   ]
  },
  {
   "cell_type": "code",
   "execution_count": null,
   "metadata": {
    "slideshow": {
     "slide_type": "slide"
    }
   },
   "outputs": [],
   "source": [
    "git commit -m \"Conflict resolved in fun.jl\""
   ]
  },
  {
   "cell_type": "code",
   "execution_count": null,
   "metadata": {},
   "outputs": [],
   "source": [
    "git status"
   ]
  },
  {
   "cell_type": "code",
   "execution_count": null,
   "metadata": {},
   "outputs": [],
   "source": [
    "git checkout master"
   ]
  },
  {
   "cell_type": "markdown",
   "metadata": {
    "slideshow": {
     "slide_type": "slide"
    }
   },
   "source": [
    "## Etiquetar versiones especiales\n",
    "En algún momento de la historia del proyecto, se llegará a una versión con todas las características prometidas y deseadas que debe tener un nombre especial. Para esto se utiliza el comando \"etiquetar\":\n",
    "```bash\n",
    "    > git tag [-m \"<message>\"] <tagname>\n",
    "```\n",
    "donde `<tagname>` es el nombre de la versión especial y `\"<message>\"` la descripción de la versión.\n",
    "\n",
    "También se pueden listar las versiones etiquetadas con\n",
    "```bash\n",
    "    > git tag\n",
    "```"
   ]
  },
  {
   "cell_type": "code",
   "execution_count": null,
   "metadata": {
    "slideshow": {
     "slide_type": "slide"
    }
   },
   "outputs": [],
   "source": [
    "git tag -m \"Finally our first functional version 0.1\" v0.1"
   ]
  },
  {
   "cell_type": "code",
   "execution_count": null,
   "metadata": {},
   "outputs": [],
   "source": [
    "git tag -l"
   ]
  },
  {
   "cell_type": "code",
   "execution_count": null,
   "metadata": {
    "slideshow": {
     "slide_type": "slide"
    }
   },
   "outputs": [],
   "source": [
    "git push"
   ]
  },
  {
   "cell_type": "code",
   "execution_count": null,
   "metadata": {
    "scrolled": false,
    "slideshow": {
     "slide_type": "slide"
    }
   },
   "outputs": [],
   "source": [
    "%%html\n",
    "<embed src=\"https://github.com/rlerichev/ProjectGitExercise\" width=1500 height=800>"
   ]
  },
  {
   "cell_type": "markdown",
   "metadata": {
    "slideshow": {
     "slide_type": "slide"
    }
   },
   "source": [
    "## El ciclo(s) de desarrollo\n",
    "Primero algunas convenciones:\n",
    "- Nuestro proyecto estará formado varios proyectos-depósitos: `___Core.jl`, `___.jl`, `___IFS.jl`, `___Graphics.jl`, etc.\n",
    "- La rama *master* es la rama que siempre tendrá la versión funcional de cada proyecto-depósito y se etiquetaran las versiones especiales a partir de ella.\n",
    "- Cada desarrollador de nuestro proyecto tendrá su propia rama en cada proyecto-depósito para realizar sus desarrollos (potencialmente experimentales). Después podrán fusionar su rama con la *master*, cuando se tenga un desarrollo estable."
   ]
  },
  {
   "cell_type": "markdown",
   "metadata": {
    "slideshow": {
     "slide_type": "slide"
    }
   },
   "source": [
    "Antes de que los desarrolladores comiencen a trabajar, lo siguiente deberá estar realizado (por el desarrollador en jefe o el administrador del proyecto, una sóla vez en la vida del proyecto):\n",
    "1. Crear la organización ***___*** en ***GitHub***, a la que pertenecerán los desarrolladores y se asociarán los proyectos-depósito.\n",
    "2. Crear un proyecto-depósito en ***GitHub*** de cada biblioteca de ***___*** (que equivale a `git init`). Deberán contener los archivos y carpetas base y convencionales."
   ]
  },
  {
   "cell_type": "markdown",
   "metadata": {
    "slideshow": {
     "slide_type": "slide"
    }
   },
   "source": [
    "Cada desarrollador deberá:\n",
    "1. Abrir una cuenta en ***GitHub***.\n",
    "2. Clonar los proyectos-depósito en los que colabora localmente en su computadora. (También habrá clones de los proyectos-depósito en las computadoras del proyecto que se comprarán e inicialmente estarán en el cubículo del Dr. King).\n",
    "3. Crear una rama personal de desarrollo, por ejemplo\n",
    "```bash\n",
    "    > git branch <name>\n",
    "```"
   ]
  },
  {
   "cell_type": "markdown",
   "metadata": {
    "slideshow": {
     "slide_type": "slide"
    }
   },
   "source": [
    "Recomiendo seguir los siguientes procesos para las sesiones de desarrollo:\n",
    "1. Entrar en su rama de desarrollo:\n",
    "```bash\n",
    "    > git checkout rlv\n",
    "```\n",
    "2. Fusionar la última versión de la rama *master* con la rama de desarrollo, para actualizar archivos:\n",
    "```bash\n",
    "    > git pull origin master\n",
    "```\n",
    "3. Si hay conflictos, resolverlos adecuadamente.\n",
    "4. Crear, editar, mover o renombrar (`git mv`), borrar (`git rm`) archivos y/o carpetas. Aquí se realiza el grueso del trabajo de desarrollo: escribir código, hacer pruebas, corregir...\n",
    "5. Añadir los archivos creados que sean pertientes:\n",
    "```bash\n",
    "    > git add <file1> ... <fileN>\n",
    "```\n",
    "6. Crear una nueva versión local, con su respectivo comentario descriptivo:\n",
    "```bash\n",
    "    > git commit -am \"Bug X repaired. New feature Y developed. Thing Z improved...\"\n",
    "```\n",
    "7. Al final de la sesión de trabajo, enviar la versión al depósito en ***GitHub*** (para tener respaldo del trabajo realizado):\n",
    "```bash\n",
    "    > git push origin rlv\n",
    "```"
   ]
  },
  {
   "cell_type": "markdown",
   "metadata": {
    "slideshow": {
     "slide_type": "slide"
    }
   },
   "source": [
    "Finalmente, en alguna fase del desarrollo de software se tienen que incorporar los desarrollos particulares de cada colaborador con el principal. Para esto recomiendo:\n",
    "1. Entrar en la rama *master*:\n",
    "```bash\n",
    "    > git checkout master\n",
    "```\n",
    "2. Obtener la última versión principal:\n",
    "```bash\n",
    "    > git pull\n",
    "```\n",
    "3. Fusionar la rama local de desarrollo con la rama *master*:\n",
    "```bash\n",
    "    > git merge rlv\n",
    "```\n",
    "4. Si hay conflictos, resolverlos adecuadamente.\n",
    "5. Verificar que el software funcione haciendo las pruebas pertientes. Si hay problemas o *bugs*, corregirlos.\n",
    "6. Crear una nueva versión local *master*, con su respectivo comentario descriptivo:\n",
    "```bash\n",
    "    > git commit -am \"New features X,Y,Z. Things A,B,C repaired...\"\n",
    "```\n",
    "7. Enviar la versión nueva al depósito en ***GitHub*** (para compartir con el mundo el trabajo realizado):\n",
    "```bash\n",
    "    > git push\n",
    "```"
   ]
  },
  {
   "cell_type": "markdown",
   "metadata": {
    "slideshow": {
     "slide_type": "slide"
    }
   },
   "source": [
    "## Para saber más..."
   ]
  },
  {
   "cell_type": "code",
   "execution_count": null,
   "metadata": {},
   "outputs": [],
   "source": [
    "%%html\n",
    "<embed src=\"https://git-scm.com/book/es/v2\" width=1500 height=800>"
   ]
  },
  {
   "cell_type": "code",
   "execution_count": null,
   "metadata": {
    "slideshow": {
     "slide_type": "slide"
    }
   },
   "outputs": [],
   "source": [
    "%%html\n",
    "<embed src=\"./docs/pdf/BenLynn-GitMagic(ESP).pdf\" width=1500 height=800>"
   ]
  },
  {
   "cell_type": "code",
   "execution_count": null,
   "metadata": {
    "slideshow": {
     "slide_type": "slide"
    }
   },
   "outputs": [],
   "source": [
    "%%html\n",
    "<embed src=\"./docs/pdf/git-cheat-sheet.pdf\" width=1500 height=800>"
   ]
  },
  {
   "cell_type": "code",
   "execution_count": null,
   "metadata": {},
   "outputs": [],
   "source": []
  }
 ],
 "metadata": {
  "@webio": {
   "lastCommId": null,
   "lastKernelId": null
  },
  "celltoolbar": "Slideshow",
  "kernelspec": {
   "display_name": "Calysto Bash",
   "language": "bash",
   "name": "calysto_bash"
  },
  "language_info": {
   "file_extension": ".sh",
   "help_links": [
    {
     "text": "MetaKernel Magics",
     "url": "https://metakernel.readthedocs.io/en/latest/source/README.html"
    }
   ],
   "mimetype": "text/x-sh",
   "name": "bash",
   "version": "0.2.2"
  }
 },
 "nbformat": 4,
 "nbformat_minor": 4
}
