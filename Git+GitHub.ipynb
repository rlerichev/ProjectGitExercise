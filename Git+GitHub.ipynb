{
 "cells": [
  {
   "cell_type": "markdown",
   "metadata": {
    "slideshow": {
     "slide_type": "slide"
    }
   },
   "source": [
    "# Sistema de Control de Versiones\n",
    "\n",
    "# *Git*  y *GitHub*\n",
    "\n",
    "<table><td><img src=\"pics/Git-logo.png\" style=\"height:200px;\"/></td><td> </td><td><img src=\"pics/GitHub-logo.png\" style=\"height:400px;\"/></td></table>"
   ]
  },
  {
   "cell_type": "markdown",
   "metadata": {
    "slideshow": {
     "slide_type": "slide"
    }
   },
   "source": [
    "Un *sistema de control de versiones* es un sistema de software que permite mantener la historia de desarrollo de un proyecto (de lo que sea).\n",
    "\n",
    "Es decir, se conservan todas las versiones de todos los archivos de computadora relevantes para el proyecto.\n",
    "\n",
    "Además, estos sistemas permiten y ayudan en el desarrollo colaborativo del proyecto."
   ]
  },
  {
   "cell_type": "markdown",
   "metadata": {
    "slideshow": {
     "slide_type": "slide"
    }
   },
   "source": [
    "#### ¿Para qué?\n",
    "Es esencial en cualquier proyecto controlar las versiones por las siguientes razones:\n",
    "- Respaldo de los archivos del proyecto.\n",
    "- Posibilidad de restablecer versiones anteriores después de cambios catastróficos.\n",
    "- La revisión y control de cambios permite un mejor trabajo colaborativo: no repetir trabajo y evitar trabajo innecesario, uniformizar el manejo de archivos y vista del proyecto. \n",
    "- Los coordinadores de proyecto pueden dar mejor seguimiento al trabajo realizado por los colaboradores."
   ]
  },
  {
   "cell_type": "markdown",
   "metadata": {
    "slideshow": {
     "slide_type": "slide"
    }
   },
   "source": [
    "El sistema de control de versiones ***git*** es multiplataforma, gratis, de código abierto, fácil de aprender (según ellos), veloz y eficiente."
   ]
  },
  {
   "cell_type": "markdown",
   "metadata": {
    "slideshow": {
     "slide_type": "fragment"
    }
   },
   "source": [
    "Pero su característica más importante es ser *distribuido*, es decir, los colaboradores tienen copias completas del proyecto y no requieren una conexión constante a internet. (A diferencia de los sistemas *centralizados*, donde sólo existe un único proyecto completo en un servidor y los colaboradores tienen que acceder a él vía internet o alguna red local.)"
   ]
  },
  {
   "cell_type": "markdown",
   "metadata": {
    "slideshow": {
     "slide_type": "fragment"
    }
   },
   "source": [
    "***git*** fué desarrollado por Linus Torvalds (creador de ***Linux***) y nombrado (por el mismo y de manera egocéntrica como todos sus proyectos, según él) por su personalidad (*git* en jerga de inglés británico significa persona desagradable)."
   ]
  },
  {
   "cell_type": "code",
   "execution_count": null,
   "metadata": {
    "slideshow": {
     "slide_type": "skip"
    }
   },
   "outputs": [],
   "source": [
    "%%html\n",
    "<embed src=\"https://git-scm.com\" width=1500 height=800>"
   ]
  },
  {
   "cell_type": "code",
   "execution_count": null,
   "metadata": {
    "slideshow": {
     "slide_type": "skip"
    }
   },
   "outputs": [],
   "source": [
    "%%html\n",
    "<embed src=\"https://git-scm.com/downloads\" width=1500 height=800>"
   ]
  },
  {
   "cell_type": "markdown",
   "metadata": {
    "slideshow": {
     "slide_type": "subslide"
    }
   },
   "source": [
    "Página oficial de ***git***:\n",
    "[git-scm.com](https://git-scm.com)\n",
    "\n",
    "Descarga: [git-scm.com/downloads](https://git-scm.com/downloads)"
   ]
  },
  {
   "cell_type": "markdown",
   "metadata": {
    "slideshow": {
     "slide_type": "slide"
    }
   },
   "source": [
    "***GitHub*** es una plataforma web para alojamiento de proyectos (principalmente de software), que además de integrar sistemas de control de versiones (***git*** y otros) tiene las siguientes características:\n",
    "- Visualización de archivos formateados y con sintaxis resaltada.\n",
    "- Visualización general del proyecto y sus versiones.\n",
    "- Herramienta de gestión de proyectos (interna). También se puede vincular con externas como ***Trello***, ***Monday***, ***Asana***, etc.\n",
    "- Uso prácticamente ilimitado y sin costo para proyectos públicos de código abierto (*open source*)."
   ]
  },
  {
   "cell_type": "code",
   "execution_count": null,
   "metadata": {
    "slideshow": {
     "slide_type": "skip"
    }
   },
   "outputs": [],
   "source": [
    "%%html\n",
    "<embed src=\"https://github.com\" width=1500 height=800>"
   ]
  },
  {
   "cell_type": "code",
   "execution_count": null,
   "metadata": {
    "slideshow": {
     "slide_type": "skip"
    }
   },
   "outputs": [],
   "source": [
    "%%html\n",
    "<embed src=\"https://github.com/pricing\" width=1500 height=800>"
   ]
  },
  {
   "cell_type": "markdown",
   "metadata": {
    "slideshow": {
     "slide_type": "subslide"
    }
   },
   "source": [
    "Página de ***GitHub***: [github.com](https://github.com)\n",
    "\n",
    "Precios: [github.com/pricing](https://github.com/pricing)"
   ]
  },
  {
   "cell_type": "markdown",
   "metadata": {
    "slideshow": {
     "slide_type": "slide"
    }
   },
   "source": [
    "Una vez instalado ***git***, existe una aplicación `git` en el sistema que se ejecuta en terminal y recibe distintos comandos:\n",
    "```bash\n",
    "    > git <command>\n",
    "```"
   ]
  },
  {
   "cell_type": "markdown",
   "metadata": {
    "slideshow": {
     "slide_type": "fragment"
    }
   },
   "source": [
    "Existen interfaces gráficas (para todos los SOs) para \"facilitar\" el uso de ***git***, pero en este mini-curso sólo veremos los comandos en terminal y la interacción con ***GitHub***."
   ]
  },
  {
   "cell_type": "markdown",
   "metadata": {
    "slideshow": {
     "slide_type": "fragment"
    }
   },
   "source": [
    "De hecho el editor ***Atom*** ya tiene integrados *plugins* de ***git*** y ***GitHub***, por lo que es muy recomendable usarlo (además se le puede instalar un *plugin* de ***Julia*** que se llama ***Juno***)."
   ]
  },
  {
   "cell_type": "markdown",
   "metadata": {
    "slideshow": {
     "slide_type": "slide"
    }
   },
   "source": [
    "## ¡Ayuda!\n",
    "Para conocer todos los comados de ***git*** y su uso general:\n",
    "```bash\n",
    "    > git help\n",
    "```\n",
    "Para conocer el detalle de uso de cada comado:\n",
    "```bash\n",
    "    > git help <command>\n",
    "```"
   ]
  },
  {
   "cell_type": "code",
   "execution_count": 2,
   "metadata": {
    "scrolled": false,
    "slideshow": {
     "slide_type": "slide"
    }
   },
   "outputs": [
    {
     "name": "stdout",
     "output_type": "stream",
     "text": [
      "GIT-HELP(1)                       Git Manual                       GIT-HELP(1)\r\n",
      "\r\n",
      "N\bNA\bAM\bME\bE\r\n",
      "       git-help - Display help information about Git\r\n",
      "\r\n",
      "S\bSY\bYN\bNO\bOP\bPS\bSI\bIS\bS\r\n",
      "       _\bg_\bi_\bt _\bh_\be_\bl_\bp [-a|--all [--[no-]verbose]] [-g|--guide]\r\n",
      "                  [-i|--info|-m|--man|-w|--web] [COMMAND|GUIDE]\r\n",
      "\r\n",
      "D\bDE\bES\bSC\bCR\bRI\bIP\bPT\bTI\bIO\bON\bN\r\n",
      "       With no options and no COMMAND or GUIDE given, the synopsis of the _\bg_\bi_\bt\r\n",
      "       command and a list of the most commonly used Git commands are printed\r\n",
      "       on the standard output.\r\n",
      "\r\n",
      "       If the option -\b--\b-a\bal\bll\bl or -\b-a\ba is given, all available commands are printed\r\n",
      "       on the standard output.\r\n",
      "\r\n",
      "       If the option -\b--\b-g\bgu\bui\bid\bde\be or -\b-g\bg is given, a list of the useful Git guides\r\n",
      "       is also printed on the standard output.\r\n",
      "\r\n",
      "       If a command, or a guide, is given, a manual page for that command or\r\n",
      "       guide is brought up. The _\bm_\ba_\bn program is used by default for this\r\n",
      "       purpose, but this can be overridden by other options or configuration\r\n",
      "       variables.\r\n",
      "\r\n",
      "       If an alias is given, git shows the definition of the alias on standard\r\n",
      "       output. To get the manual page for the aliased command, use g\bgi\bit\bt C\bCO\bOM\bMM\bMA\bAN\bND\bD\r\n",
      "       -\b--\b-h\bhe\bel\blp\bp.\r\n",
      "\r\n",
      "       Note that g\bgi\bit\bt -\b--\b-h\bhe\bel\blp\bp .\b..\b..\b. is identical to g\bgi\bit\bt h\bhe\bel\blp\bp .\b..\b..\b. because the\r\n",
      "       former is internally converted into the latter.\r\n",
      "\r\n",
      "       To display the g\bgi\bit\bt(1) man page, use g\bgi\bit\bt h\bhe\bel\blp\bp g\bgi\bit\bt.\r\n",
      "\r\n",
      "       This page can be displayed with _\bg_\bi_\bt _\bh_\be_\bl_\bp _\bh_\be_\bl_\bp or g\bgi\bit\bt h\bhe\bel\blp\bp -\b--\b-h\bhe\bel\blp\bp\r\n",
      "\r\n",
      "O\bOP\bPT\bTI\bIO\bON\bNS\bS\r\n",
      "       -a, --all\r\n",
      "           Prints all the available commands on the standard output. This\r\n",
      "           option overrides any given command or guide name.\r\n",
      "\r\n",
      "       --verbose\r\n",
      "           When used with -\b--\b-a\bal\bll\bl print description for all recognized commands.\r\n",
      "           This is the default.\r\n",
      "\r\n",
      "       -c, --config\r\n",
      "           List all available configuration variables. This is a short summary\r\n",
      "           of the list in g\bgi\bit\bt-\b-c\bco\bon\bnf\bfi\big\bg(1).\r\n",
      "\r\n",
      "       -g, --guides\r\n",
      "           Prints a list of useful guides on the standard output. This option\r\n",
      "           overrides any given command or guide name.\r\n",
      "\r\n",
      "       -i, --info\r\n",
      "           Display manual page for the command in the _\bi_\bn_\bf_\bo format. The _\bi_\bn_\bf_\bo\r\n",
      "           program will be used for that purpose.\r\n",
      "\r\n",
      "       -m, --man\r\n",
      "           Display manual page for the command in the _\bm_\ba_\bn format. This option\r\n",
      "           may be used to override a value set in the h\bhe\bel\blp\bp.\b.f\bfo\bor\brm\bma\bat\bt\r\n",
      "           configuration variable.\r\n",
      "\r\n",
      "           By default the _\bm_\ba_\bn program will be used to display the manual page,\r\n",
      "           but the m\bma\ban\bn.\b.v\bvi\bie\bew\bwe\ber\br configuration variable may be used to choose\r\n",
      "           other display programs (see below).\r\n",
      "\r\n",
      "       -w, --web\r\n",
      "           Display manual page for the command in the _\bw_\be_\bb (HTML) format. A web\r\n",
      "           browser will be used for that purpose.\r\n",
      "\r\n",
      "           The web browser can be specified using the configuration variable\r\n",
      "           h\bhe\bel\blp\bp.\b.b\bbr\bro\bow\bws\bse\ber\br, or w\bwe\beb\bb.\b.b\bbr\bro\bow\bws\bse\ber\br if the former is not set. If none of\r\n",
      "           these config variables is set, the _\bg_\bi_\bt _\bw_\be_\bb_\b-_\b-_\bb_\br_\bo_\bw_\bs_\be helper script\r\n",
      "           (called by _\bg_\bi_\bt _\bh_\be_\bl_\bp) will pick a suitable default. See g\bgi\bit\bt-\b-\r\n",
      "           w\bwe\beb\bb-\b--\b-b\bbr\bro\bow\bws\bse\be(1) for more information about this.\r\n",
      "\r\n",
      "C\bCO\bON\bNF\bFI\bIG\bGU\bUR\bRA\bAT\bTI\bIO\bON\bN V\bVA\bAR\bRI\bIA\bAB\bBL\bLE\bES\bS\r\n",
      "   h\bhe\bel\blp\bp.\b.f\bfo\bor\brm\bma\bat\bt\r\n",
      "       If no command-line option is passed, the h\bhe\bel\blp\bp.\b.f\bfo\bor\brm\bma\bat\bt configuration\r\n",
      "       variable will be checked. The following values are supported for this\r\n",
      "       variable; they make _\bg_\bi_\bt _\bh_\be_\bl_\bp behave as their corresponding command-\r\n",
      "       line option:\r\n",
      "\r\n",
      "       •   \"man\" corresponds to _\b-_\bm_\b|_\b-_\b-_\bm_\ba_\bn,\r\n",
      "\r\n",
      "       •   \"info\" corresponds to _\b-_\bi_\b|_\b-_\b-_\bi_\bn_\bf_\bo,\r\n",
      "\r\n",
      "       •   \"web\" or \"html\" correspond to _\b-_\bw_\b|_\b-_\b-_\bw_\be_\bb.\r\n",
      "\r\n",
      "   h\bhe\bel\blp\bp.\b.b\bbr\bro\bow\bws\bse\ber\br,\b, w\bwe\beb\bb.\b.b\bbr\bro\bow\bws\bse\ber\br a\ban\bnd\bd b\bbr\bro\bow\bws\bse\ber\br.\b.<\b<t\bto\boo\bol\bl>\b>.\b.p\bpa\bat\bth\bh\r\n",
      "       The h\bhe\bel\blp\bp.\b.b\bbr\bro\bow\bws\bse\ber\br, w\bwe\beb\bb.\b.b\bbr\bro\bow\bws\bse\ber\br and b\bbr\bro\bow\bws\bse\ber\br.\b.<\b<t\bto\boo\bol\bl>\b>.\b.p\bpa\bat\bth\bh will also be\r\n",
      "       checked if the _\bw_\be_\bb format is chosen (either by command-line option or\r\n",
      "       configuration variable). See _\b-_\bw_\b|_\b-_\b-_\bw_\be_\bb in the OPTIONS section above and\r\n",
      "       g\bgi\bit\bt-\b-w\bwe\beb\bb-\b--\b-b\bbr\bro\bow\bws\bse\be(1).\r\n",
      "\r\n",
      "   m\bma\ban\bn.\b.v\bvi\bie\bew\bwe\ber\br\r\n",
      "       The m\bma\ban\bn.\b.v\bvi\bie\bew\bwe\ber\br configuration variable will be checked if the _\bm_\ba_\bn format\r\n",
      "       is chosen. The following values are currently supported:\r\n",
      "\r\n",
      "       •   \"man\": use the _\bm_\ba_\bn program as usual,\r\n",
      "\r\n",
      "       •   \"woman\": use _\be_\bm_\ba_\bc_\bs_\bc_\bl_\bi_\be_\bn_\bt to launch the \"woman\" mode in emacs (this\r\n",
      "           only works starting with emacsclient versions 22),\r\n",
      "\r\n",
      "       •   \"konqueror\": use _\bk_\bf_\bm_\bc_\bl_\bi_\be_\bn_\bt to open the man page in a new konqueror\r\n",
      "           tab (see _\bN_\bo_\bt_\be _\ba_\bb_\bo_\bu_\bt _\bk_\bo_\bn_\bq_\bu_\be_\br_\bo_\br below).\r\n",
      "\r\n",
      "       Values for other tools can be used if there is a corresponding\r\n",
      "       m\bma\ban\bn.\b.<\b<t\bto\boo\bol\bl>\b>.\b.c\bcm\bmd\bd configuration entry (see below).\r\n",
      "\r\n",
      "       Multiple values may be given to the m\bma\ban\bn.\b.v\bvi\bie\bew\bwe\ber\br configuration variable.\r\n",
      "       Their corresponding programs will be tried in the order listed in the\r\n",
      "       configuration file.\r\n",
      "\r\n",
      "       For example, this configuration:\r\n",
      "\r\n",
      "                   [man]\r\n",
      "                           viewer = konqueror\r\n",
      "                           viewer = woman\r\n",
      "\r\n",
      "       will try to use konqueror first. But this may fail (for example, if\r\n",
      "       DISPLAY is not set) and in that case emacs' woman mode will be tried.\r\n",
      "\r\n",
      "       If everything fails, or if no viewer is configured, the viewer\r\n",
      "       specified in the G\bGI\bIT\bT_\b_M\bMA\bAN\bN_\b_V\bVI\bIE\bEW\bWE\bER\bR environment variable will be tried. If\r\n",
      "       that fails too, the _\bm_\ba_\bn program will be tried anyway.\r\n",
      "\r\n",
      "   m\bma\ban\bn.\b.<\b<t\bto\boo\bol\bl>\b>.\b.p\bpa\bat\bth\bh\r\n",
      "       You can explicitly provide a full path to your preferred man viewer by\r\n",
      "       setting the configuration variable m\bma\ban\bn.\b.<\b<t\bto\boo\bol\bl>\b>.\b.p\bpa\bat\bth\bh. For example, you\r\n",
      "       can configure the absolute path to konqueror by setting\r\n",
      "       _\bm_\ba_\bn_\b._\bk_\bo_\bn_\bq_\bu_\be_\br_\bo_\br_\b._\bp_\ba_\bt_\bh. Otherwise, _\bg_\bi_\bt _\bh_\be_\bl_\bp assumes the tool is available\r\n",
      "       in PATH.\r\n",
      "\r\n",
      "   m\bma\ban\bn.\b.<\b<t\bto\boo\bol\bl>\b>.\b.c\bcm\bmd\bd\r\n",
      "       When the man viewer, specified by the m\bma\ban\bn.\b.v\bvi\bie\bew\bwe\ber\br configuration\r\n",
      "       variables, is not among the supported ones, then the corresponding\r\n",
      "       m\bma\ban\bn.\b.<\b<t\bto\boo\bol\bl>\b>.\b.c\bcm\bmd\bd configuration variable will be looked up. If this\r\n",
      "       variable exists then the specified tool will be treated as a custom\r\n",
      "       command and a shell eval will be used to run the command with the man\r\n",
      "       page passed as arguments.\r\n",
      "\r\n",
      "   N\bNo\bot\bte\be a\bab\bbo\bou\but\bt k\bko\bon\bnq\bqu\bue\ber\bro\bor\br\r\n",
      "       When _\bk_\bo_\bn_\bq_\bu_\be_\br_\bo_\br is specified in the m\bma\ban\bn.\b.v\bvi\bie\bew\bwe\ber\br configuration variable,\r\n",
      "       we launch _\bk_\bf_\bm_\bc_\bl_\bi_\be_\bn_\bt to try to open the man page on an already opened\r\n",
      "       konqueror in a new tab if possible.\r\n",
      "\r\n",
      "       For consistency, we also try such a trick if _\bm_\ba_\bn_\b._\bk_\bo_\bn_\bq_\bu_\be_\br_\bo_\br_\b._\bp_\ba_\bt_\bh is set\r\n",
      "       to something like A\bA_\b_P\bPA\bAT\bTH\bH_\b_T\bTO\bO/\b/k\bko\bon\bnq\bqu\bue\ber\bro\bor\br. That means we will try to launch\r\n",
      "       A\bA_\b_P\bPA\bAT\bTH\bH_\b_T\bTO\bO/\b/k\bkf\bfm\bmc\bcl\bli\bie\ben\bnt\bt instead.\r\n",
      "\r\n",
      "       If you really want to use _\bk_\bo_\bn_\bq_\bu_\be_\br_\bo_\br, then you can use something like\r\n",
      "       the following:\r\n",
      "\r\n",
      "                   [man]\r\n",
      "                           viewer = konq\r\n",
      "\r\n",
      "                   [man \"konq\"]\r\n",
      "                           cmd = A_PATH_TO/konqueror\r\n",
      "\r\n",
      "   N\bNo\bot\bte\be a\bab\bbo\bou\but\bt g\bgi\bit\bt c\bco\bon\bnf\bfi\big\bg -\b--\b-g\bgl\blo\bob\bba\bal\bl\r\n",
      "       Note that all these configuration variables should probably be set\r\n",
      "       using the -\b--\b-g\bgl\blo\bob\bba\bal\bl flag, for example like this:\r\n",
      "\r\n",
      "           $ git config --global help.format web\r\n",
      "           $ git config --global web.browser firefox\r\n",
      "\r\n",
      "       as they are probably more user specific than repository specific. See\r\n",
      "       g\bgi\bit\bt-\b-c\bco\bon\bnf\bfi\big\bg(1) for more information about this.\r\n",
      "\r\n",
      "G\bGI\bIT\bT\r\n",
      "       Part of the g\bgi\bit\bt(1) suite\r\n",
      "\r\n",
      "Git 2.27.0                        03/04/2021                       GIT-HELP(1)\r\n",
      "\n"
     ]
    }
   ],
   "source": [
    "git help help"
   ]
  },
  {
   "cell_type": "markdown",
   "metadata": {
    "slideshow": {
     "slide_type": "subslide"
    }
   },
   "source": [
    "Por cierto, este es un cuaderno con *kernel* ***Calysto Bash***, por lo que se pueden ejecutar instrucciones de terminal ***bash***."
   ]
  },
  {
   "cell_type": "code",
   "execution_count": null,
   "metadata": {
    "slideshow": {
     "slide_type": "skip"
    }
   },
   "outputs": [],
   "source": [
    "%%html\n",
    "<embed src=\"https://nbviewer.jupyter.org/github/Calysto/calysto_bash/blob/master/calysto_bash.ipynb\" width=1500 height=800>"
   ]
  },
  {
   "cell_type": "markdown",
   "metadata": {},
   "source": [
    "***Calysto bash***: [https://nbviewer/.../calysto_bash.ipynb](https://nbviewer.jupyter.org/github/Calysto/calysto_bash/blob/master/calysto_bash.ipynb)"
   ]
  },
  {
   "cell_type": "code",
   "execution_count": 3,
   "metadata": {
    "slideshow": {
     "slide_type": "subslide"
    }
   },
   "outputs": [
    {
     "name": "stdout",
     "output_type": "stream",
     "text": [
      "/home/rleriche/Software/Dev/ProjectGitExercise\r\n",
      "\n"
     ]
    }
   ],
   "source": [
    "pwd"
   ]
  },
  {
   "cell_type": "code",
   "execution_count": 4,
   "metadata": {},
   "outputs": [
    {
     "name": "stdout",
     "output_type": "stream",
     "text": [
      "docs  Git+GitHub.ipynb  LICENSE  PersonalNotes.txt  pics  README.md  src  test\r\n",
      "\n"
     ]
    }
   ],
   "source": [
    "ls"
   ]
  },
  {
   "cell_type": "markdown",
   "metadata": {
    "slideshow": {
     "slide_type": "slide"
    }
   },
   "source": [
    "## Creación de un *Proyecto* ***git***\n",
    "\n",
    "Un *Proyecto* ***git*** o *depósito* (*repository*) es una carpeta con archivos y carpetas que será marcada para supervisión por ***git*** y contendrá todas las versiones del proyecto (comprimidas y optimizadas)."
   ]
  },
  {
   "cell_type": "markdown",
   "metadata": {
    "slideshow": {
     "slide_type": "fragment"
    }
   },
   "source": [
    "Para hacer esto hay que (crear e) ingresar a la carpeta del proyecto, por ejemplo\n",
    "```bash\n",
    "    > cd Software/Dev/ProjectGitExercise\n",
    "```\n",
    "\n",
    "y luego se utiliza el comando de \"inicialización\" de ***git***\n",
    "```bash\n",
    "    > git init\n",
    "```\n",
    "(Esto se hace una sóla vez en la vida del proyecto.)"
   ]
  },
  {
   "cell_type": "code",
   "execution_count": 5,
   "metadata": {
    "slideshow": {
     "slide_type": "slide"
    }
   },
   "outputs": [
    {
     "name": "stdout",
     "output_type": "stream",
     "text": [
      ".     .git              .ipynb_checkpoints  pics       test\r\n",
      "..    Git+GitHub.ipynb  LICENSE             README.md\r\n",
      "docs  .gitignore        PersonalNotes.txt   src\r\n",
      "\n"
     ]
    }
   ],
   "source": [
    "ls -a"
   ]
  },
  {
   "cell_type": "code",
   "execution_count": 10,
   "metadata": {},
   "outputs": [
    {
     "name": "stdout",
     "output_type": "stream",
     "text": [
      "branches        config       FETCH_HEAD  hooks  info  objects    packed-refs\r\n",
      "COMMIT_EDITMSG  description  HEAD        index  logs  ORIG_HEAD  refs\r\n",
      "\n"
     ]
    }
   ],
   "source": [
    "ls .git"
   ]
  },
  {
   "cell_type": "markdown",
   "metadata": {
    "slideshow": {
     "slide_type": "fragment"
    }
   },
   "source": [
    "#### Importante\n",
    "Nunca modificar la los contenidos de la carpeta `.git`, que ahí está toda la hitoria (local) y configuración de supervisión del proyecto. "
   ]
  },
  {
   "cell_type": "markdown",
   "metadata": {
    "slideshow": {
     "slide_type": "slide"
    }
   },
   "source": [
    "El archivo `.gitignore` es un archivo de texto que enlista los archivos y carpetas que ***git*** ignorará en la carpeta del proyecto. Es útil para que nunca se agreguen a la historia del proyecto archivos temporales, intermedios, de notas personales, etc."
   ]
  },
  {
   "cell_type": "code",
   "execution_count": 11,
   "metadata": {},
   "outputs": [
    {
     "name": "stdout",
     "output_type": "stream",
     "text": [
      "[1] 8775\r\n",
      "\n"
     ]
    }
   ],
   "source": [
    "gedit .gitignore &"
   ]
  },
  {
   "cell_type": "code",
   "execution_count": 12,
   "metadata": {},
   "outputs": [
    {
     "name": "stdout",
     "output_type": "stream",
     "text": [
      "[2] 8798\r\n",
      "\n"
     ]
    }
   ],
   "source": [
    "gedit PersonalNotes.txt &"
   ]
  },
  {
   "cell_type": "markdown",
   "metadata": {
    "slideshow": {
     "slide_type": "slide"
    }
   },
   "source": [
    "También se puede crear un depósito directamente en ***GitHub***.\n",
    "\n",
    "[github.com/new](https://github.com/new)\n",
    "\n",
    "El creado para este minicurso:\n",
    "\n",
    "[github.com/rlerichev/ProjectGitExercise](https://github.com/rlerichev/ProjectGitExercise)"
   ]
  },
  {
   "cell_type": "markdown",
   "metadata": {
    "slideshow": {
     "slide_type": "skip"
    }
   },
   "source": [
    "%%html\n",
    "<embed src=\"https://github.com/new\" width=1500 height=800>"
   ]
  },
  {
   "cell_type": "code",
   "execution_count": null,
   "metadata": {
    "slideshow": {
     "slide_type": "skip"
    }
   },
   "outputs": [],
   "source": [
    "%%html\n",
    "<embed src=\"https://github.com/rlerichev/ProjectGitExercise\" width=1500 height=800>"
   ]
  },
  {
   "cell_type": "markdown",
   "metadata": {
    "slideshow": {
     "slide_type": "slide"
    }
   },
   "source": [
    "## Clones para los colaboradores\n",
    "\n",
    "Para que los colaboradores puedan trabajar en el proyecto necesitan una copia, tienen que \"clonarlo\":\n",
    "```bash\n",
    "    > git clone <url>|<dir> [<dirname>]\n",
    "```\n",
    "`<url>` es una dirección remota, `<dir>` es una carpeta local y `<dirname>` es el nombre (opcional) del depósito."
   ]
  },
  {
   "cell_type": "code",
   "execution_count": 13,
   "metadata": {
    "slideshow": {
     "slide_type": "slide"
    }
   },
   "outputs": [
    {
     "name": "stdout",
     "output_type": "stream",
     "text": [
      "[2]+  Done                    gedit PersonalNotes.txt  (wd: ~/Software/Dev/ProjectGitExercise)\r\n",
      "(wd now: ~/Software/Dev)\r\n",
      "\n"
     ]
    }
   ],
   "source": [
    "cd .."
   ]
  },
  {
   "cell_type": "code",
   "execution_count": 14,
   "metadata": {},
   "outputs": [
    {
     "name": "stdout",
     "output_type": "stream",
     "text": [
      "Cloning into 'ProjectGitExerciseCopy'...\r\n",
      "done.\r\n",
      "\n"
     ]
    }
   ],
   "source": [
    "git clone ProjectGitExercise ProjectGitExerciseCopy"
   ]
  },
  {
   "cell_type": "code",
   "execution_count": 15,
   "metadata": {},
   "outputs": [
    {
     "name": "stdout",
     "output_type": "stream",
     "text": [
      ".   docs  Git+GitHub.ipynb  LICENSE  README.md  test\r\n",
      "..  .git  .gitignore        pics     src\r\n",
      "\n"
     ]
    }
   ],
   "source": [
    "ls -a ProjectGitExerciseCopy"
   ]
  },
  {
   "cell_type": "code",
   "execution_count": 16,
   "metadata": {
    "slideshow": {
     "slide_type": "slide"
    }
   },
   "outputs": [
    {
     "name": "stdout",
     "output_type": "stream",
     "text": [
      "Cloning into 'ProjectGitExercise2'...\r\n",
      "remote: Enumerating objects: 46, done.        \r\n",
      "remote: Counting objects:   2% (1/46)        \r",
      "remote: Counting objects:   4% (2/46)        \r",
      "remote: Counting objects:   6% (3/46)        \r",
      "remote: Counting objects:   8% (4/46)        \r",
      "remote: Counting objects:  10% (5/46)        \r",
      "remote: Counting objects:  13% (6/46)        \r",
      "remote: Counting objects:  15% (7/46)        \r",
      "remote: Counting objects:  17% (8/46)        \r",
      "remote: Counting objects:  19% (9/46)        \r",
      "remote: Counting objects:  21% (10/46)        \r",
      "remote: Counting objects:  23% (11/46)        \r",
      "remote: Counting objects:  26% (12/46)        \r",
      "remote: Counting objects:  28% (13/46)        \r",
      "remote: Counting objects:  30% (14/46)        \r",
      "remote: Counting objects:  32% (15/46)        \r",
      "remote: Counting objects:  34% (16/46)        \r",
      "remote: Counting objects:  36% (17/46)        \r",
      "remote: Counting objects:  39% (18/46)        \r",
      "remote: Counting objects:  41% (19/46)        \r",
      "remote: Counting objects:  43% (20/46)        \r",
      "remote: Counting objects:  45% (21/46)        \r",
      "remote: Counting objects:  47% (22/46)        \r",
      "remote: Counting objects:  50% (23/46)        \r",
      "remote: Counting objects:  52% (24/46)        \r",
      "remote: Counting objects:  54% (25/46)        \r",
      "remote: Counting objects:  56% (26/46)        \r",
      "remote: Counting objects:  58% (27/46)        \r",
      "remote: Counting objects:  60% (28/46)        \r",
      "remote: Counting objects:  63% (29/46)        \r",
      "remote: Counting objects:  65% (30/46)        \r",
      "remote: Counting objects:  67% (31/46)        \r",
      "remote: Counting objects:  69% (32/46)        \r",
      "remote: Counting objects:  71% (33/46)        \r",
      "remote: Counting objects:  73% (34/46)        \r",
      "remote: Counting objects:  76% (35/46)        \r",
      "remote: Counting objects:  78% (36/46)        \r",
      "remote: Counting objects:  80% (37/46)        \r",
      "remote: Counting objects:  82% (38/46)        \r",
      "remote: Counting objects:  84% (39/46)        \r",
      "remote: Counting objects:  86% (40/46)        \r",
      "remote: Counting objects:  89% (41/46)        \r",
      "remote: Counting objects:  91% (42/46)        \r",
      "remote: Counting objects:  93% (43/46)        \r",
      "remote: Counting objects:  95% (44/46)        \r",
      "remote: Counting objects:  97% (45/46)        \r",
      "remote: Counting objects: 100% (46/46)        \r",
      "remote: Counting objects: 100% (46/46), done.        \r\n",
      "remote: Compressing objects:   3% (1/32)        \r",
      "remote: Compressing objects:   6% (2/32)        \r",
      "remote: Compressing objects:   9% (3/32)        \r",
      "remote: Compressing objects:  12% (4/32)        \r",
      "remote: Compressing objects:  15% (5/32)        \r",
      "remote: Compressing objects:  18% (6/32)        \r",
      "remote: Compressing objects:  21% (7/32)        \r",
      "remote: Compressing objects:  25% (8/32)        \r",
      "remote: Compressing objects:  28% (9/32)        \r",
      "remote: Compressing objects:  31% (10/32)        \r",
      "remote: Compressing objects:  34% (11/32)        \r",
      "remote: Compressing objects:  37% (12/32)        \r",
      "remote: Compressing objects:  40% (13/32)        \r",
      "remote: Compressing objects:  43% (14/32)        \r",
      "remote: Compressing objects:  46% (15/32)        \r",
      "remote: Compressing objects:  50% (16/32)        \r",
      "remote: Compressing objects:  53% (17/32)        \r",
      "remote: Compressing objects:  56% (18/32)        \r",
      "remote: Compressing objects:  59% (19/32)        \r",
      "remote: Compressing objects:  62% (20/32)        \r",
      "remote: Compressing objects:  65% (21/32)        \r",
      "remote: Compressing objects:  68% (22/32)        \r",
      "remote: Compressing objects:  71% (23/32)        \r",
      "remote: Compressing objects:  75% (24/32)        \r",
      "remote: Compressing objects:  78% (25/32)        \r",
      "remote: Compressing objects:  81% (26/32)        \r",
      "remote: Compressing objects:  84% (27/32)        \r",
      "remote: Compressing objects:  87% (28/32)        \r",
      "remote: Compressing objects:  90% (29/32)        \r",
      "remote: Compressing objects:  93% (30/32)        \r",
      "remote: Compressing objects:  96% (31/32)        \r",
      "remote: Compressing objects: 100% (32/32)        \r",
      "remote: Compressing objects: 100% (32/32), done.        \r\n",
      "Unpacking objects:   2% (1/46)\r",
      "Unpacking objects:   4% (2/46)\r",
      "Unpacking objects:   6% (3/46)\r",
      "Unpacking objects:   8% (4/46)\r",
      "Unpacking objects:  10% (5/46)\r",
      "Unpacking objects:  13% (6/46)\r",
      "Unpacking objects:  15% (7/46)\r",
      "Unpacking objects:  17% (8/46)\r",
      "Unpacking objects:  19% (9/46)\r",
      "Unpacking objects:  21% (10/46)\r",
      "Unpacking objects:  23% (11/46)\r",
      "Unpacking objects:  26% (12/46)\r",
      "Unpacking objects:  28% (13/46)\r",
      "Unpacking objects:  30% (14/46)\r",
      "Unpacking objects:  32% (15/46)\r",
      "Unpacking objects:  34% (16/46)\r",
      "Unpacking objects:  36% (17/46)\r",
      "Unpacking objects:  39% (18/46)\r",
      "Unpacking objects:  41% (19/46)\r",
      "Unpacking objects:  43% (20/46)\r",
      "Unpacking objects:  45% (21/46)\r",
      "Unpacking objects:  47% (22/46)\r",
      "Unpacking objects:  50% (23/46)\r",
      "Unpacking objects:  52% (24/46)\r",
      "Unpacking objects:  54% (25/46)\r",
      "Unpacking objects:  56% (26/46)\r",
      "Unpacking objects:  58% (27/46)\r",
      "Unpacking objects:  60% (28/46)\r",
      "Unpacking objects:  63% (29/46)\r",
      "Unpacking objects:  65% (30/46)\r",
      "Unpacking objects:  67% (31/46)\r",
      "remote: Total 46 (delta 8), reused 39 (delta 5), pack-reused 0        \r\n",
      "Unpacking objects:  69% (32/46)\r",
      "Unpacking objects:  71% (33/46)\r",
      "Unpacking objects:  73% (34/46)\r",
      "Unpacking objects:  76% (35/46)\r",
      "Unpacking objects:  78% (36/46)\r",
      "Unpacking objects:  80% (37/46)\r",
      "Unpacking objects:  82% (38/46)\r",
      "Unpacking objects:  84% (39/46)\r",
      "Unpacking objects:  86% (40/46)\r",
      "Unpacking objects:  89% (41/46)\r",
      "Unpacking objects:  91% (42/46)\r",
      "Unpacking objects:  93% (43/46)\r",
      "Unpacking objects:  95% (44/46)\r",
      "Unpacking objects:  97% (45/46)\r",
      "Unpacking objects: 100% (46/46)\r",
      "Unpacking objects: 100% (46/46), 835.10 KiB | 1.89 MiB/s, done.\r\n",
      "\n"
     ]
    }
   ],
   "source": [
    "git clone https://github.com/rlerichev/ProjectGitExercise.git ProjectGitExercise2"
   ]
  },
  {
   "cell_type": "code",
   "execution_count": 18,
   "metadata": {},
   "outputs": [
    {
     "name": "stdout",
     "output_type": "stream",
     "text": [
      ".   docs  Git+GitHub.ipynb  LICENSE  README.md  test\r\n",
      "..  .git  .gitignore        pics     src\r\n",
      "\n"
     ]
    }
   ],
   "source": [
    "ls -a ProjectGitExercise2"
   ]
  },
  {
   "cell_type": "markdown",
   "metadata": {
    "slideshow": {
     "slide_type": "slide"
    }
   },
   "source": [
    "En ocasiones es recomendable hacer \"clones desnudos\", que conservan una versión comprimida del depósito. Por ejemplo, para un depósito portátil en una memoria USB...\n",
    "```bash\n",
    "    > git clone --bare <url>|<dir> [<dirname>]\n",
    "```"
   ]
  },
  {
   "cell_type": "code",
   "execution_count": 19,
   "metadata": {
    "slideshow": {
     "slide_type": "slide"
    }
   },
   "outputs": [
    {
     "name": "stdout",
     "output_type": "stream",
     "text": [
      "Cloning into bare repository 'ProjectGitExerciseBare'...\r\n",
      "done.\r\n",
      "\n"
     ]
    }
   ],
   "source": [
    "git clone --bare ProjectGitExercise ProjectGitExerciseBare"
   ]
  },
  {
   "cell_type": "code",
   "execution_count": 21,
   "metadata": {},
   "outputs": [
    {
     "name": "stdout",
     "output_type": "stream",
     "text": [
      ".   branches  description  hooks  objects      refs\r\n",
      "..  config    HEAD         info   packed-refs\r\n",
      "\n"
     ]
    }
   ],
   "source": [
    "ls -a ProjectGitExerciseBare"
   ]
  },
  {
   "cell_type": "code",
   "execution_count": 22,
   "metadata": {
    "slideshow": {
     "slide_type": "fragment"
    }
   },
   "outputs": [
    {
     "name": "stdout",
     "output_type": "stream",
     "text": [
      "\n"
     ]
    }
   ],
   "source": [
    "cd ProjectGitExercise"
   ]
  },
  {
   "cell_type": "markdown",
   "metadata": {
    "slideshow": {
     "slide_type": "slide"
    }
   },
   "source": [
    "## Creación y edición de archivos\n",
    "\n",
    "Ahora ya se puede trabajar en el proyecto, o sea, crear y editar archivos del proyecto."
   ]
  },
  {
   "cell_type": "code",
   "execution_count": 23,
   "metadata": {},
   "outputs": [
    {
     "name": "stdout",
     "output_type": "stream",
     "text": [
      "[2] 8935\r\n",
      "\n"
     ]
    }
   ],
   "source": [
    "gedit README.md &"
   ]
  },
  {
   "cell_type": "code",
   "execution_count": 24,
   "metadata": {
    "slideshow": {
     "slide_type": "slide"
    }
   },
   "outputs": [
    {
     "name": "stdout",
     "output_type": "stream",
     "text": [
      "[3] 8956\r\n",
      "[2]   Done                    gedit README.md\r\n",
      "\n"
     ]
    }
   ],
   "source": [
    "gedit NEWS.md &"
   ]
  },
  {
   "cell_type": "code",
   "execution_count": 25,
   "metadata": {},
   "outputs": [
    {
     "name": "stdout",
     "output_type": "stream",
     "text": [
      "docs              LICENSE  PersonalNotes.txt  README.md  test\r\n",
      "Git+GitHub.ipynb  NEWS.md  pics               src\r\n",
      "[3]+  Done                    gedit NEWS.md\r\n",
      "\n"
     ]
    }
   ],
   "source": [
    "ls"
   ]
  },
  {
   "cell_type": "markdown",
   "metadata": {
    "slideshow": {
     "slide_type": "slide"
    }
   },
   "source": [
    "El comando de \"estado\" de ***git*** es muy útil para saber que archivos se han modificado y cuales no están rastreados\n",
    "```bash\n",
    "    > git status [-s]\n",
    "```\n",
    "Con la opción `-s` se muestra una versión condensada (*small*) del estado."
   ]
  },
  {
   "cell_type": "code",
   "execution_count": 26,
   "metadata": {
    "slideshow": {
     "slide_type": "slide"
    }
   },
   "outputs": [
    {
     "name": "stdout",
     "output_type": "stream",
     "text": [
      "On branch master\r\n",
      "Your branch is up to date with 'origin/master'.\r\n",
      "\r\n",
      "Changes not staged for commit:\r\n",
      "  (use \"git add <file>...\" to update what will be committed)\r\n",
      "  (use \"git restore <file>...\" to discard changes in working directory)\r\n",
      "\tmodified:   .gitignore\r\n",
      "\tmodified:   Git+GitHub.ipynb\r\n",
      "\tmodified:   README.md\r\n",
      "\tmodified:   pics/git_branchmerge.png\r\n",
      "\tmodified:   pics/git_trees.png\r\n",
      "\r\n",
      "Untracked files:\r\n",
      "  (use \"git add <file>...\" to include in what will be committed)\r\n",
      "\tNEWS.md\r\n",
      "\r\n",
      "no changes added to commit (use \"git add\" and/or \"git commit -a\")\r\n",
      "\n"
     ]
    }
   ],
   "source": [
    "git status"
   ]
  },
  {
   "cell_type": "code",
   "execution_count": 28,
   "metadata": {
    "slideshow": {
     "slide_type": "slide"
    }
   },
   "outputs": [
    {
     "name": "stdout",
     "output_type": "stream",
     "text": [
      " M .gitignore\r\n",
      " M Git+GitHub.ipynb\r\n",
      " M README.md\r\n",
      " M pics/git_branchmerge.png\r\n",
      " M pics/git_trees.png\r\n",
      "?? NEWS.md\r\n",
      "\n"
     ]
    }
   ],
   "source": [
    "git status -s"
   ]
  },
  {
   "cell_type": "markdown",
   "metadata": {},
   "source": [
    "`M` es \"modificado\", `??` es \"no rastreado\"."
   ]
  },
  {
   "cell_type": "markdown",
   "metadata": {
    "slideshow": {
     "slide_type": "slide"
    }
   },
   "source": [
    "Para deshacer todos los cambios de realizados en un archivo `<file>` se puede usar el comando \"restaurar\":\n",
    "```bash\n",
    "    > git restore <file>\n",
    "```"
   ]
  },
  {
   "cell_type": "code",
   "execution_count": 29,
   "metadata": {
    "slideshow": {
     "slide_type": "slide"
    }
   },
   "outputs": [
    {
     "name": "stdout",
     "output_type": "stream",
     "text": [
      "\n"
     ]
    }
   ],
   "source": [
    "git restore README.md"
   ]
  },
  {
   "cell_type": "code",
   "execution_count": 30,
   "metadata": {},
   "outputs": [
    {
     "name": "stdout",
     "output_type": "stream",
     "text": [
      " M .gitignore\r\n",
      " M Git+GitHub.ipynb\r\n",
      " M pics/git_branchmerge.png\r\n",
      " M pics/git_trees.png\r\n",
      "?? NEWS.md\r\n",
      "\n"
     ]
    }
   ],
   "source": [
    "git status -s"
   ]
  },
  {
   "cell_type": "markdown",
   "metadata": {
    "slideshow": {
     "slide_type": "slide"
    }
   },
   "source": [
    "Otro comando útil al desarrollar es la búsqueda de fragmentos de código en los archivos del proyecto. Para esto existe el comando de \"búsqueda global de patrones con expresiones regulares\" (\"**G**lobal search / **R**egular **E**xpression / **P**attern\"):\n",
    "```bash\n",
    "    > git grep \"<regexp>\"\n",
    "```"
   ]
  },
  {
   "cell_type": "markdown",
   "metadata": {
    "slideshow": {
     "slide_type": "slide"
    }
   },
   "source": [
    "Buscando todas la líneas de texto que inicien con la palabra \"Play\" o \"play\"..."
   ]
  },
  {
   "cell_type": "code",
   "execution_count": 33,
   "metadata": {
    "slideshow": {
     "slide_type": "-"
    }
   },
   "outputs": [
    {
     "name": "stdout",
     "output_type": "stream",
     "text": [
      "Git+GitHub.ipynb:      \"Git+GitHub.ipynb:   \\\"display_name\\\": \\\"Calysto Bash\\\",\\r\\n\",\r\n",
      "Git+GitHub.ipynb:   \"display_name\": \"Calysto Bash\",\r\n",
      "\n"
     ]
    }
   ],
   "source": [
    "git grep \"[Pp]lay_name*\""
   ]
  },
  {
   "cell_type": "markdown",
   "metadata": {
    "slideshow": {
     "slide_type": "slide"
    }
   },
   "source": [
    "## Añadir archivos y confirmar versiones\n",
    "\n",
    "Una vez creados archivos se pueden \"añadir\" al depósito y una vez satisfechos con la edición en una sesión de trabajo se pueden \"confirmar\" las versiones en el depósito..."
   ]
  },
  {
   "cell_type": "markdown",
   "metadata": {
    "slideshow": {
     "slide_type": "fragment"
    }
   },
   "source": [
    "Pero antes hay que saber que un depósito de ***git*** funciona en varias capas:\n",
    "- La *carpeta de trabajo* (*working directory*), que es la del sistema operativo que contiene el proyecto.\n",
    "- El *índice* (*INDEX*) que es una *zona de armado* (*staging area*) donde se van agregando archivos para ser supervisados por ***git***.\n",
    "- El *depósito local* es donde está localmente toda la historia y tiene la última la versión (identificada por *HEAD*).\n",
    "- El *depósito remoto* (o tal vez sólo *externo*) es el depósito original de donde se clonó el depósito local."
   ]
  },
  {
   "cell_type": "markdown",
   "metadata": {
    "slideshow": {
     "slide_type": "slide"
    }
   },
   "source": [
    "Para añadir nuevos archivos (o todos los archivos en cierta carpeta) al índice para ser rastreados, usar el comando \"añadir\":\n",
    "```bash\n",
    "    > git add <file>|<dir> [<file1> ... <fileN> <dir1> ... <dirM>]\n",
    "```\n",
    "Nota: No se añaden carpetas vacías."
   ]
  },
  {
   "cell_type": "code",
   "execution_count": 35,
   "metadata": {
    "slideshow": {
     "slide_type": "slide"
    }
   },
   "outputs": [
    {
     "name": "stdout",
     "output_type": "stream",
     "text": [
      "\n"
     ]
    }
   ],
   "source": [
    "mkdir empty"
   ]
  },
  {
   "cell_type": "code",
   "execution_count": 36,
   "metadata": {},
   "outputs": [
    {
     "name": "stdout",
     "output_type": "stream",
     "text": [
      "docs   Git+GitHub.ipynb  NEWS.md            pics       src\r\n",
      "empty  LICENSE           PersonalNotes.txt  README.md  test\r\n",
      "\n"
     ]
    }
   ],
   "source": [
    "ls"
   ]
  },
  {
   "cell_type": "code",
   "execution_count": 37,
   "metadata": {
    "slideshow": {
     "slide_type": "-"
    }
   },
   "outputs": [
    {
     "name": "stdout",
     "output_type": "stream",
     "text": [
      "\n"
     ]
    }
   ],
   "source": [
    "git add NEWS.md empty"
   ]
  },
  {
   "cell_type": "code",
   "execution_count": 38,
   "metadata": {},
   "outputs": [
    {
     "name": "stdout",
     "output_type": "stream",
     "text": [
      "On branch master\r\n",
      "Your branch is up to date with 'origin/master'.\r\n",
      "\r\n",
      "Changes to be committed:\r\n",
      "  (use \"git restore --staged <file>...\" to unstage)\r\n",
      "\tnew file:   NEWS.md\r\n",
      "\r\n",
      "Changes not staged for commit:\r\n",
      "  (use \"git add <file>...\" to update what will be committed)\r\n",
      "  (use \"git restore <file>...\" to discard changes in working directory)\r\n",
      "\tmodified:   .gitignore\r\n",
      "\tmodified:   Git+GitHub.ipynb\r\n",
      "\tmodified:   pics/git_branchmerge.png\r\n",
      "\tmodified:   pics/git_trees.png\r\n",
      "\r\n",
      "\n"
     ]
    }
   ],
   "source": [
    "git status"
   ]
  },
  {
   "cell_type": "code",
   "execution_count": 39,
   "metadata": {
    "slideshow": {
     "slide_type": "slide"
    }
   },
   "outputs": [
    {
     "name": "stdout",
     "output_type": "stream",
     "text": [
      "[2] 9216\r\n",
      "\n"
     ]
    }
   ],
   "source": [
    "gedit empty/empty.txt &"
   ]
  },
  {
   "cell_type": "code",
   "execution_count": 45,
   "metadata": {},
   "outputs": [
    {
     "name": "stdout",
     "output_type": "stream",
     "text": [
      "\n"
     ]
    }
   ],
   "source": [
    "git add empty"
   ]
  },
  {
   "cell_type": "code",
   "execution_count": 46,
   "metadata": {},
   "outputs": [
    {
     "name": "stdout",
     "output_type": "stream",
     "text": [
      "On branch master\r\n",
      "Your branch is up to date with 'origin/master'.\r\n",
      "\r\n",
      "Changes to be committed:\r\n",
      "  (use \"git restore --staged <file>...\" to unstage)\r\n",
      "\tnew file:   NEWS.md\r\n",
      "\tnew file:   empty/empty.txt\r\n",
      "\r\n",
      "Changes not staged for commit:\r\n",
      "  (use \"git add <file>...\" to update what will be committed)\r\n",
      "  (use \"git restore <file>...\" to discard changes in working directory)\r\n",
      "\tmodified:   .gitignore\r\n",
      "\tmodified:   Git+GitHub.ipynb\r\n",
      "\tmodified:   pics/git_branchmerge.png\r\n",
      "\tmodified:   pics/git_trees.png\r\n",
      "\r\n",
      "\n"
     ]
    }
   ],
   "source": [
    "git status"
   ]
  },
  {
   "cell_type": "markdown",
   "metadata": {
    "slideshow": {
     "slide_type": "slide"
    }
   },
   "source": [
    "Una vez satisfechos con la edición, se tienen que añadir los archivos modificados con `add` y con el comando \"confirmar\" se establece la versión:\n",
    "```bash\n",
    "    > git commit -m \"Message\"\n",
    "```\n",
    "La opción `m` indica que se aplicará el `\"Message\"`, que es un breve texto explicativo de los cambios realizados (en inglés)."
   ]
  },
  {
   "cell_type": "markdown",
   "metadata": {
    "slideshow": {
     "slide_type": "fragment"
    }
   },
   "source": [
    "Si se quieren añadir todos los archivos modificados, se puede usar la opción `a` al \"confirmar\":\n",
    "```bash\n",
    "    > git commit -am \"Message\"\n",
    "```"
   ]
  },
  {
   "cell_type": "code",
   "execution_count": 47,
   "metadata": {
    "slideshow": {
     "slide_type": "slide"
    }
   },
   "outputs": [
    {
     "name": "stdout",
     "output_type": "stream",
     "text": [
      "[master e1c487d] Created files NEWS.md and empty/empty.txt. PersonalNotes2.txt added to .gitignore. Actualized images and notebook\r\n",
      " 6 files changed, 881 insertions(+), 105 deletions(-)\r\n",
      " create mode 100644 NEWS.md\r\n",
      " create mode 100644 empty/empty.txt\r\n",
      " rewrite pics/git_branchmerge.png (99%)\r\n",
      " rewrite pics/git_trees.png (99%)\r\n",
      "\n"
     ]
    }
   ],
   "source": [
    "git commit -am \"Created files NEWS.md and empty/empty.txt. PersonalNotes2.txt added to .gitignore. Actualized images and notebook\" "
   ]
  },
  {
   "cell_type": "code",
   "execution_count": 48,
   "metadata": {},
   "outputs": [
    {
     "name": "stdout",
     "output_type": "stream",
     "text": [
      ".     empty             .gitignore          NEWS.md            README.md\r\n",
      "..    .git              .ipynb_checkpoints  PersonalNotes.txt  src\r\n",
      "docs  Git+GitHub.ipynb  LICENSE             pics               test\r\n",
      "\n"
     ]
    }
   ],
   "source": [
    "ls -a"
   ]
  },
  {
   "cell_type": "code",
   "execution_count": 49,
   "metadata": {},
   "outputs": [
    {
     "name": "stdout",
     "output_type": "stream",
     "text": [
      "On branch master\r\n",
      "Your branch is ahead of 'origin/master' by 1 commit.\r\n",
      "  (use \"git push\" to publish your local commits)\r\n",
      "\r\n",
      "Changes not staged for commit:\r\n",
      "  (use \"git add <file>...\" to update what will be committed)\r\n",
      "  (use \"git restore <file>...\" to discard changes in working directory)\r\n",
      "\tmodified:   Git+GitHub.ipynb\r\n",
      "\r\n",
      "no changes added to commit (use \"git add\" and/or \"git commit -a\")\r\n",
      "\n"
     ]
    }
   ],
   "source": [
    "git status"
   ]
  },
  {
   "cell_type": "markdown",
   "metadata": {
    "slideshow": {
     "slide_type": "slide"
    }
   },
   "source": [
    "Existe la posibilidad de que se nos haya olvidado agregar algo antes de confirmar la versión, pero en ese caso lo podemos solucionar con agregar lo necesario y luego usar la opción \"enmendar\" al confirmar:\n",
    "```bash\n",
    "    > git add <forgotten_files>\n",
    "    > git commit --amend -m \"Message\"\n",
    "```"
   ]
  },
  {
   "cell_type": "code",
   "execution_count": 50,
   "metadata": {
    "slideshow": {
     "slide_type": "slide"
    }
   },
   "outputs": [
    {
     "name": "stdout",
     "output_type": "stream",
     "text": [
      "[2] 9299\r\n",
      "\n"
     ]
    }
   ],
   "source": [
    "gedit README.md &"
   ]
  },
  {
   "cell_type": "code",
   "execution_count": 51,
   "metadata": {
    "slideshow": {
     "slide_type": "-"
    }
   },
   "outputs": [
    {
     "name": "stdout",
     "output_type": "stream",
     "text": [
      "[2]+  Done                    gedit README.md\r\n",
      "\n"
     ]
    }
   ],
   "source": [
    "git add README.md"
   ]
  },
  {
   "cell_type": "code",
   "execution_count": 52,
   "metadata": {},
   "outputs": [
    {
     "name": "stdout",
     "output_type": "stream",
     "text": [
      "[master 5d0250a] Created files NEWS.md and test/test.jl. PersonalNotes.txt Added to .gitignore. Authors in README.md\r\n",
      " Date: Fri Apr 16 14:11:19 2021 -0500\r\n",
      " 7 files changed, 885 insertions(+), 105 deletions(-)\r\n",
      " create mode 100644 NEWS.md\r\n",
      " create mode 100644 empty/empty.txt\r\n",
      " rewrite pics/git_branchmerge.png (99%)\r\n",
      " rewrite pics/git_trees.png (99%)\r\n",
      "\n"
     ]
    }
   ],
   "source": [
    "git commit --amend -m \"Created files NEWS.md and test/test.jl. PersonalNotes.txt Added to .gitignore. Authors in README.md\""
   ]
  },
  {
   "cell_type": "markdown",
   "metadata": {
    "slideshow": {
     "slide_type": "slide"
    }
   },
   "source": [
    "<table><td><img src=\"pics/git_trees.png\" style=\"height:400px;\"/></td></table>"
   ]
  },
  {
   "cell_type": "markdown",
   "metadata": {
    "slideshow": {
     "slide_type": "slide"
    }
   },
   "source": [
    "<table><td><img src=\"pics/git_status.png\" style=\"height:400px;\"/></td></table>"
   ]
  },
  {
   "cell_type": "markdown",
   "metadata": {
    "slideshow": {
     "slide_type": "slide"
    }
   },
   "source": [
    "## Renombrar, mover,  borrar\n",
    "Claro, como parte de la edición se pueden renombrar o mover archivos o carpetas o borrarlos si es necesario, pero si esos archivos están en el *INDEX* hay que avisarle a ***git***. Para mover o renombrar hay que usar el comando \"mover\":\n",
    "```bash\n",
    "    > git mv ( <name> <newname> )|( <name1> ... <nameN> <dir> )\n",
    "```"
   ]
  },
  {
   "cell_type": "code",
   "execution_count": 54,
   "metadata": {
    "slideshow": {
     "slide_type": "slide"
    }
   },
   "outputs": [
    {
     "name": "stdout",
     "output_type": "stream",
     "text": [
      "\n"
     ]
    }
   ],
   "source": [
    "git mv test/test01.jl test/test02.jl"
   ]
  },
  {
   "cell_type": "code",
   "execution_count": 55,
   "metadata": {},
   "outputs": [
    {
     "name": "stdout",
     "output_type": "stream",
     "text": [
      "On branch master\r\n",
      "Your branch is ahead of 'origin/master' by 1 commit.\r\n",
      "  (use \"git push\" to publish your local commits)\r\n",
      "\r\n",
      "Changes to be committed:\r\n",
      "  (use \"git restore --staged <file>...\" to unstage)\r\n",
      "\trenamed:    test/test01.jl -> test/test02.jl\r\n",
      "\r\n",
      "Changes not staged for commit:\r\n",
      "  (use \"git add <file>...\" to update what will be committed)\r\n",
      "  (use \"git restore <file>...\" to discard changes in working directory)\r\n",
      "\tmodified:   Git+GitHub.ipynb\r\n",
      "\r\n",
      "\n"
     ]
    }
   ],
   "source": [
    "git status"
   ]
  },
  {
   "cell_type": "markdown",
   "metadata": {
    "slideshow": {
     "slide_type": "slide"
    }
   },
   "source": [
    "Para borrar archivos hay que usar el comando \"remover\":\n",
    "```bash\n",
    "    > git rm <file> [<file1> ... <fileN>]\n",
    "```"
   ]
  },
  {
   "cell_type": "code",
   "execution_count": 56,
   "metadata": {
    "slideshow": {
     "slide_type": "slide"
    }
   },
   "outputs": [
    {
     "name": "stdout",
     "output_type": "stream",
     "text": [
      "rm 'NEWS.md'\r\n",
      "\n"
     ]
    }
   ],
   "source": [
    "git rm NEWS.md"
   ]
  },
  {
   "cell_type": "code",
   "execution_count": 57,
   "metadata": {},
   "outputs": [
    {
     "name": "stdout",
     "output_type": "stream",
     "text": [
      "On branch master\r\n",
      "Your branch is ahead of 'origin/master' by 1 commit.\r\n",
      "  (use \"git push\" to publish your local commits)\r\n",
      "\r\n",
      "Changes to be committed:\r\n",
      "  (use \"git restore --staged <file>...\" to unstage)\r\n",
      "\tdeleted:    NEWS.md\r\n",
      "\trenamed:    test/test01.jl -> test/test02.jl\r\n",
      "\r\n",
      "Changes not staged for commit:\r\n",
      "  (use \"git add <file>...\" to update what will be committed)\r\n",
      "  (use \"git restore <file>...\" to discard changes in working directory)\r\n",
      "\tmodified:   Git+GitHub.ipynb\r\n",
      "\r\n",
      "\n"
     ]
    }
   ],
   "source": [
    "git status"
   ]
  },
  {
   "cell_type": "code",
   "execution_count": 58,
   "metadata": {
    "slideshow": {
     "slide_type": "slide"
    }
   },
   "outputs": [
    {
     "name": "stdout",
     "output_type": "stream",
     "text": [
      "[master 45a393b] Moving test/test01.jl to test/test02.jl and erasing file NEWS.md.\r\n",
      " 3 files changed, 159 insertions(+), 26 deletions(-)\r\n",
      " delete mode 100644 NEWS.md\r\n",
      " rename test/{test01.jl => test02.jl} (100%)\r\n",
      "\n"
     ]
    }
   ],
   "source": [
    "git commit -am \"Moving test/test01.jl to test/test02.jl and erasing file NEWS.md.\""
   ]
  },
  {
   "cell_type": "code",
   "execution_count": 59,
   "metadata": {},
   "outputs": [
    {
     "name": "stdout",
     "output_type": "stream",
     "text": [
      "On branch master\r\n",
      "Your branch is ahead of 'origin/master' by 2 commits.\r\n",
      "  (use \"git push\" to publish your local commits)\r\n",
      "\r\n",
      "nothing to commit, working tree clean\r\n",
      "\n"
     ]
    }
   ],
   "source": [
    "git status"
   ]
  },
  {
   "cell_type": "code",
   "execution_count": 60,
   "metadata": {},
   "outputs": [
    {
     "name": "stdout",
     "output_type": "stream",
     "text": [
      "docs   Git+GitHub.ipynb  PersonalNotes.txt  README.md  test\r\n",
      "empty  LICENSE           pics               src\r\n",
      "\n"
     ]
    }
   ],
   "source": [
    "ls"
   ]
  },
  {
   "cell_type": "markdown",
   "metadata": {
    "slideshow": {
     "slide_type": "slide"
    }
   },
   "source": [
    "## Compartir nuestro trabajo con todo mundo\n",
    "Ahora que ya tenemos nuestra versión local, la podemos compartir con los demás colaboradores enviándola al depósito original del que se clonó o algún otro depósito. Para esto se usa el comando \"empujar\":\n",
    "```bash\n",
    "    > git push [<repository>]\n",
    "```\n",
    "donde `<repository>` es la dirección web de un depósito remoto o la ruta de un depósito externo y desnudo en la misma computadora. Si este parámetro se omite entonces se usará el depósito origen."
   ]
  },
  {
   "cell_type": "code",
   "execution_count": null,
   "metadata": {
    "slideshow": {
     "slide_type": "slide"
    }
   },
   "outputs": [],
   "source": [
    "git push"
   ]
  },
  {
   "cell_type": "code",
   "execution_count": null,
   "metadata": {
    "slideshow": {
     "slide_type": "skip"
    }
   },
   "outputs": [],
   "source": [
    "%%html\n",
    "<embed src=\"https://github.com/rlerichev/ProjectGitExercise\" width=1500 height=800>"
   ]
  },
  {
   "cell_type": "markdown",
   "metadata": {
    "slideshow": {
     "slide_type": "subslide"
    }
   },
   "source": [
    "Para subir los cambios de un depósito local a un depósito remoto en un servidor externo, por lo general se requiere *nombre* y *contraseña* por seguridad.\n",
    "\n",
    "Se pueden configurar *claves* con el protocolo ***SSH*** (**S**ecure **SH**ell) para hacer el chequeo de seguridad de manera automática."
   ]
  },
  {
   "cell_type": "markdown",
   "metadata": {
    "slideshow": {
     "slide_type": "slide"
    }
   },
   "source": [
    "Para conocer los depósitos remotos asociados al depósito local, se puede usar el comando \"remoto\":\n",
    "```bash\n",
    "    > git remote -v\n",
    "```\n",
    "El depósito original del que se clonó este depósito local tiene el nombre `origin` (\"origen\")."
   ]
  },
  {
   "cell_type": "code",
   "execution_count": 61,
   "metadata": {},
   "outputs": [
    {
     "name": "stdout",
     "output_type": "stream",
     "text": [
      "loc_extern\t../ProjectGitExerciseBare (fetch)\r\n",
      "loc_extern\t../ProjectGitExerciseBare (push)\r\n",
      "origin\thttps://github.com/rlerichev/ProjectGitExercise.git (fetch)\r\n",
      "origin\thttps://github.com/rlerichev/ProjectGitExercise.git (push)\r\n",
      "\n"
     ]
    }
   ],
   "source": [
    "git remote -v"
   ]
  },
  {
   "cell_type": "markdown",
   "metadata": {
    "slideshow": {
     "slide_type": "slide"
    }
   },
   "source": [
    "Ese mismo momando \"remoto\" sirve para agregar otros depósitos remotos (para poder usarlos con el comando \"empujar\"):\n",
    "```bash\n",
    "    > git remote add <name> <url>|<dir>\n",
    "```\n",
    "donde `<name>` es el nombre para el depósito remoto en `<url>` o `<dir>` (que no sea `origin`) que tiene que ser desnudo."
   ]
  },
  {
   "cell_type": "code",
   "execution_count": 62,
   "metadata": {
    "slideshow": {
     "slide_type": "slide"
    }
   },
   "outputs": [
    {
     "name": "stdout",
     "output_type": "stream",
     "text": [
      "fatal: remote loc_extern already exists.\r\n",
      "\n"
     ]
    }
   ],
   "source": [
    "git remote add loc_extern ../ProjectGitExerciseBare"
   ]
  },
  {
   "cell_type": "code",
   "execution_count": 64,
   "metadata": {},
   "outputs": [
    {
     "name": "stdout",
     "output_type": "stream",
     "text": [
      "Enumerating objects: 23, done.\r\n",
      "Counting objects:   4% (1/23)\r",
      "Counting objects:   8% (2/23)\r",
      "Counting objects:  13% (3/23)\r",
      "Counting objects:  17% (4/23)\r",
      "Counting objects:  21% (5/23)\r",
      "Counting objects:  26% (6/23)\r",
      "Counting objects:  30% (7/23)\r",
      "Counting objects:  34% (8/23)\r",
      "Counting objects:  39% (9/23)\r",
      "Counting objects:  43% (10/23)\r",
      "Counting objects:  47% (11/23)\r",
      "Counting objects:  52% (12/23)\r",
      "Counting objects:  56% (13/23)\r",
      "Counting objects:  60% (14/23)\r",
      "Counting objects:  65% (15/23)\r",
      "Counting objects:  69% (16/23)\r",
      "Counting objects:  73% (17/23)\r",
      "Counting objects:  78% (18/23)\r",
      "Counting objects:  82% (19/23)\r",
      "Counting objects:  86% (20/23)\r",
      "Counting objects:  91% (21/23)\r",
      "Counting objects:  95% (22/23)\r",
      "Counting objects: 100% (23/23)\r",
      "Counting objects: 100% (23/23), done.\r\n",
      "Delta compression using up to 8 threads\r\n",
      "Compressing objects:   9% (1/11)\r",
      "Compressing objects:  18% (2/11)\r",
      "Compressing objects:  27% (3/11)\r",
      "Compressing objects:  36% (4/11)\r",
      "Compressing objects:  45% (5/11)\r",
      "Compressing objects:  54% (6/11)\r",
      "Compressing objects:  63% (7/11)\r",
      "Compressing objects:  72% (8/11)\r",
      "Compressing objects:  81% (9/11)\r",
      "Compressing objects:  90% (10/11)\r",
      "Compressing objects: 100% (11/11)\r",
      "Compressing objects: 100% (11/11), done.\r\n",
      "Writing objects:   6% (1/15)\r",
      "Writing objects:  13% (2/15)\r",
      "Writing objects:  26% (4/15)\r",
      "Writing objects:  33% (5/15)\r",
      "Writing objects:  40% (6/15)\r",
      "Writing objects:  46% (7/15)\r",
      "Writing objects:  53% (8/15)\r",
      "Writing objects:  60% (9/15)\r",
      "Writing objects:  66% (10/15)\r",
      "Writing objects:  73% (11/15)\r",
      "Writing objects:  80% (12/15)\r",
      "Writing objects:  86% (13/15)\r",
      "Writing objects:  93% (14/15)\r",
      "Writing objects: 100% (15/15)\r",
      "Writing objects: 100% (15/15), 61.30 KiB | 10.22 MiB/s, done.\r\n",
      "Total 15 (delta 6), reused 0 (delta 0), pack-reused 0\r\n",
      "To ../ProjectGitExerciseBare\r\n",
      "   b0b4a3d..45a393b  master -> master\r\n",
      "\n"
     ]
    }
   ],
   "source": [
    "git push loc_extern"
   ]
  },
  {
   "cell_type": "code",
   "execution_count": 63,
   "metadata": {},
   "outputs": [
    {
     "name": "stdout",
     "output_type": "stream",
     "text": [
      "loc_extern\t../ProjectGitExerciseBare (fetch)\r\n",
      "loc_extern\t../ProjectGitExerciseBare (push)\r\n",
      "origin\thttps://github.com/rlerichev/ProjectGitExercise.git (fetch)\r\n",
      "origin\thttps://github.com/rlerichev/ProjectGitExercise.git (push)\r\n",
      "\n"
     ]
    }
   ],
   "source": [
    "git remote -v"
   ]
  },
  {
   "cell_type": "markdown",
   "metadata": {
    "slideshow": {
     "slide_type": "slide"
    }
   },
   "source": [
    "## Actualizar versiones compartidas por otros\n",
    "Todos los colaboradores mandan sus versiones al depósito origen, así que para seguir trabajar de manera colaborativa hay que conseguir esas nuevas versiones. Para esto se usa el comando \"traer\":\n",
    "```bash\n",
    "    > git fetch [<repository>]\n",
    "```"
   ]
  },
  {
   "cell_type": "code",
   "execution_count": 65,
   "metadata": {
    "slideshow": {
     "slide_type": "slide"
    }
   },
   "outputs": [
    {
     "name": "stdout",
     "output_type": "stream",
     "text": [
      "\n"
     ]
    }
   ],
   "source": [
    "cd ../ProjectGitExercise2"
   ]
  },
  {
   "cell_type": "code",
   "execution_count": 66,
   "metadata": {},
   "outputs": [
    {
     "name": "stdout",
     "output_type": "stream",
     "text": [
      "docs  Git+GitHub.ipynb  LICENSE  pics  README.md  src  test\r\n",
      "\n"
     ]
    }
   ],
   "source": [
    "ls"
   ]
  },
  {
   "cell_type": "code",
   "execution_count": 67,
   "metadata": {
    "slideshow": {
     "slide_type": "slide"
    }
   },
   "outputs": [
    {
     "name": "stdout",
     "output_type": "stream",
     "text": [
      "remote: Enumerating objects: 23, done.        \r\n",
      "remote: Counting objects:   4% (1/23)        \r",
      "remote: Counting objects:   8% (2/23)        \r",
      "remote: Counting objects:  13% (3/23)        \r",
      "remote: Counting objects:  17% (4/23)        \r",
      "remote: Counting objects:  21% (5/23)        \r",
      "remote: Counting objects:  26% (6/23)        \r",
      "remote: Counting objects:  30% (7/23)        \r",
      "remote: Counting objects:  34% (8/23)        \r",
      "remote: Counting objects:  39% (9/23)        \r",
      "remote: Counting objects:  43% (10/23)        \r",
      "remote: Counting objects:  47% (11/23)        \r",
      "remote: Counting objects:  52% (12/23)        \r",
      "remote: Counting objects:  56% (13/23)        \r",
      "remote: Counting objects:  60% (14/23)        \r",
      "remote: Counting objects:  65% (15/23)        \r",
      "remote: Counting objects:  69% (16/23)        \r",
      "remote: Counting objects:  73% (17/23)        \r",
      "remote: Counting objects:  78% (18/23)        \r",
      "remote: Counting objects:  82% (19/23)        \r",
      "remote: Counting objects:  86% (20/23)        \r",
      "remote: Counting objects:  91% (21/23)        \r",
      "remote: Counting objects:  95% (22/23)        \r",
      "remote: Counting objects: 100% (23/23)        \r",
      "remote: Counting objects: 100% (23/23), done.        \r\n",
      "remote: Compressing objects:  20% (1/5)        \r",
      "remote: Compressing objects:  40% (2/5)        \r",
      "remote: Compressing objects:  60% (3/5)        \r",
      "remote: Compressing objects:  80% (4/5)        \r",
      "remote: Compressing objects: 100% (5/5)        \r",
      "remote: Compressing objects: 100% (5/5), done.        \r\n",
      "Unpacking objects:   6% (1/15)\r",
      "Unpacking objects:  13% (2/15)\r",
      "Unpacking objects:  20% (3/15)\r",
      "Unpacking objects:  26% (4/15)\r",
      "Unpacking objects:  33% (5/15)\r",
      "Unpacking objects:  40% (6/15)\r",
      "Unpacking objects:  46% (7/15)\r",
      "Unpacking objects:  53% (8/15)\r",
      "Unpacking objects:  60% (9/15)\r",
      "Unpacking objects:  66% (10/15)\r",
      "Unpacking objects:  73% (11/15)\r",
      "remote: Total 15 (delta 6), reused 15 (delta 6), pack-reused 0        \r\n",
      "Unpacking objects:  80% (12/15)\r",
      "Unpacking objects:  86% (13/15)\r",
      "Unpacking objects:  93% (14/15)\r",
      "Unpacking objects: 100% (15/15)\r",
      "Unpacking objects: 100% (15/15), 61.28 KiB | 633.00 KiB/s, done.\r\n",
      "From https://github.com/rlerichev/ProjectGitExercise\r\n",
      "   b0b4a3d..45a393b  master     -> origin/master\r\n",
      "\n"
     ]
    }
   ],
   "source": [
    "git fetch"
   ]
  },
  {
   "cell_type": "code",
   "execution_count": 70,
   "metadata": {},
   "outputs": [
    {
     "name": "stdout",
     "output_type": "stream",
     "text": [
      "docs  Git+GitHub.ipynb  LICENSE  pics  README.md  src  test\r\n",
      "\n"
     ]
    }
   ],
   "source": [
    "ls"
   ]
  },
  {
   "cell_type": "markdown",
   "metadata": {
    "slideshow": {
     "slide_type": "slide"
    }
   },
   "source": [
    "Una vez conseguidas las versiones, estas se tienen que combinar con nuestro trabajo local de la versión local *HEAD*. Para hacer esto se usa el comando \"fusionar\":\n",
    "```bash\n",
    "    > git merge <commitid>\n",
    "```\n",
    "donde `<commitid>` es el identificador de una versión.\n",
    "\n",
    "Para fusionar con la versión traída más nueva se debe usar el identificador *FETCH_HEAD*."
   ]
  },
  {
   "cell_type": "code",
   "execution_count": 71,
   "metadata": {
    "slideshow": {
     "slide_type": "slide"
    }
   },
   "outputs": [
    {
     "name": "stdout",
     "output_type": "stream",
     "text": [
      "Updating b0b4a3d..45a393b\r\n",
      "Fast-forward\r\n",
      " .gitignore                    |    4 +-\r\n",
      " Git+GitHub.ipynb              | 1158 ++++++++++++++++++++++++++++++++++++-----\r\n",
      " README.md                     |    4 +\r\n",
      " empty/empty.txt               |    3 +\r\n",
      " pics/git_branchmerge.png      |  Bin 38142 -> 22721 bytes\r\n",
      " pics/git_trees.png            |  Bin 45365 -> 39163 bytes\r\n",
      " test/{test01.jl => test02.jl} |    0\r\n",
      " 7 files changed, 1041 insertions(+), 128 deletions(-)\r\n",
      " create mode 100644 empty/empty.txt\r\n",
      " rename test/{test01.jl => test02.jl} (100%)\r\n",
      "\n"
     ]
    }
   ],
   "source": [
    "git merge FETCH_HEAD"
   ]
  },
  {
   "cell_type": "code",
   "execution_count": 73,
   "metadata": {},
   "outputs": [
    {
     "name": "stdout",
     "output_type": "stream",
     "text": [
      "test02.jl\r\n",
      "\n"
     ]
    }
   ],
   "source": [
    "ls test"
   ]
  },
  {
   "cell_type": "markdown",
   "metadata": {
    "slideshow": {
     "slide_type": "slide"
    }
   },
   "source": [
    "Para simplificar el uso de \"traer\" y \"fusionar\" con la versión nueva que se trajo, existe el comando \"jalar\" que hace las dos cosas:\n",
    "```bash\n",
    "    > git pull [<repository>]\n",
    "```"
   ]
  },
  {
   "cell_type": "code",
   "execution_count": 74,
   "metadata": {
    "slideshow": {
     "slide_type": "slide"
    }
   },
   "outputs": [
    {
     "name": "stdout",
     "output_type": "stream",
     "text": [
      "warning: Pulling without specifying how to reconcile divergent branches is\r\n",
      "discouraged. You can squelch this message by running one of the following\r\n",
      "commands sometime before your next pull:\r\n",
      "\r\n",
      "  git config pull.rebase false  # merge (the default strategy)\r\n",
      "  git config pull.rebase true   # rebase\r\n",
      "  git config pull.ff only       # fast-forward only\r\n",
      "\r\n",
      "You can replace \"git config\" with \"git config --global\" to set a default\r\n",
      "preference for all repositories. You can also pass --rebase, --no-rebase,\r\n",
      "or --ff-only on the command line to override the configured default per\r\n",
      "invocation.\r\n",
      "\r\n",
      "Already up to date.\r\n",
      "\n"
     ]
    }
   ],
   "source": [
    "git pull"
   ]
  },
  {
   "cell_type": "markdown",
   "metadata": {
    "slideshow": {
     "slide_type": "slide"
    }
   },
   "source": [
    "<table><td><img src=\"pics/git_stages.png\" style=\"height:600px;\"/></td></table>"
   ]
  },
  {
   "cell_type": "markdown",
   "metadata": {
    "slideshow": {
     "slide_type": "slide"
    }
   },
   "source": [
    "## Historia, diferencias y culpas\n",
    "Para conocer la historia del proyecto a *grosso modo*, es decir, quién hizo qué en cuál versión y cuándo, existe el comando \"registro\":\n",
    "```bash\n",
    "    > git log\n",
    "```"
   ]
  },
  {
   "cell_type": "code",
   "execution_count": 75,
   "metadata": {
    "slideshow": {
     "slide_type": "slide"
    }
   },
   "outputs": [
    {
     "name": "stdout",
     "output_type": "stream",
     "text": [
      "\n"
     ]
    }
   ],
   "source": [
    "cd ../ProjectGitExercise"
   ]
  },
  {
   "cell_type": "code",
   "execution_count": 76,
   "metadata": {
    "scrolled": false
   },
   "outputs": [
    {
     "name": "stdout",
     "output_type": "stream",
     "text": [
      "commit 45a393be5505fa7e4926a0fab116acd44a0b968f (HEAD -> master, origin/master, origin/HEAD, loc_extern/master)\r\n",
      "Author: Renato Leriche Vázquez <r_lerichev@ciencias.unam.mx>\r\n",
      "Date:   Fri Apr 16 14:25:12 2021 -0500\r\n",
      "\r\n",
      "    Moving test/test01.jl to test/test02.jl and erasing file NEWS.md.\r\n",
      "\r\n",
      "commit 5d0250a55a864d99e866cd454f1d4ef6eec0d781\r\n",
      "Author: Renato Leriche Vázquez <r_lerichev@ciencias.unam.mx>\r\n",
      "Date:   Fri Apr 16 14:11:19 2021 -0500\r\n",
      "\r\n",
      "    Created files NEWS.md and test/test.jl. PersonalNotes.txt Added to .gitignore. Authors in README.md\r\n",
      "\r\n",
      "commit b0b4a3d068d9ebebe69b6af8c3918523d5487ba2\r\n",
      "Author: Renato Leriche Vázquez <r_lerichev@ciencias.unam.mx>\r\n",
      "Date:   Fri Apr 9 13:06:13 2021 -0500\r\n",
      "\r\n",
      "    .gitignore actualizado.\r\n",
      "\r\n",
      "commit 2343d30358fa418ee3ab222cdd536db96656dd5d\r\n",
      "Author: Renato Leriche Vázquez <r_lerichev@ciencias.unam.mx>\r\n",
      "Date:   Fri Apr 9 12:32:07 2021 -0500\r\n",
      "\r\n",
      "    Documentos e imágenes para el notebook.\r\n",
      "\r\n",
      "commit 461f155df1c761b91a5fcb69211ded5712f12ee3\r\n",
      "Author: Renato Leriche Vázquez <r_lerichev@ciencias.unam.mx>\r\n",
      "Date:   Fri Apr 9 12:30:10 2021 -0500\r\n",
      "\r\n",
      "    Notebook del cursito de Git y Github.\r\n",
      "\r\n",
      "commit f2c5c3bde5acdce8bf7b9da19b73092392348ebc (tag: v0.1)\r\n",
      "Author: Renato Leriche Vázquez <r_lerichev@ciencias.unam.mx>\r\n",
      "Date:   Fri Jun 19 15:54:01 2020 -0500\r\n",
      "\r\n",
      "    f with z in fun.jl.\r\n",
      "\r\n",
      "commit b1a5bfbb6f5d1cc3fb2af0f43b1a963e9467bb02 (origin/rlv)\r\n",
      "Author: Renato Leriche Vázquez <r_lerichev@ciencias.unam.mx>\r\n",
      "Date:   Fri Jun 19 15:42:50 2020 -0500\r\n",
      "\r\n",
      "    Branch 'rlv' initial work.\r\n",
      "\r\n",
      "commit beec037f96183ac580203ef5fc2bc0361643e8e6\r\n",
      "Author: Renato Leriche Vázquez <r_lerichev@ciencias.unam.mx>\r\n",
      "Date:   Fri Jun 19 15:09:39 2020 -0500\r\n",
      "\r\n",
      "    Moving test/test.jl to test/test01.jl and erasing file NEWS.md.\r\n",
      "\r\n",
      "commit d01b2b6e4c7235b83a08b2de7eb0fe4a9cc4c3cb\r\n",
      "Author: Renato Leriche Vázquez <r_lerichev@ciencias.unam.mx>\r\n",
      "Date:   Fri Jun 19 15:00:26 2020 -0500\r\n",
      "\r\n",
      "    Created files NEWS.md and test/test.jl. PersonalNotes.txt Added to .gitignore. Typo corrected in README.md\r\n",
      "\r\n",
      "commit 25635948f10d6653160b687b7163d094ef5ca172\r\n",
      "Author: Renato Leriche <rlerichev@gmail.com>\r\n",
      "Date:   Mon Jun 15 21:18:14 2020 -0500\r\n",
      "\r\n",
      "    Initial commit\r\n",
      "\n"
     ]
    }
   ],
   "source": [
    "git log"
   ]
  },
  {
   "cell_type": "markdown",
   "metadata": {
    "slideshow": {
     "slide_type": "subslide"
    }
   },
   "source": [
    "También se puede ver la historia en ***GitHub***.\n",
    "\n",
    "[github.com/rlerichev/ProjectGitExercise/commits/master](https://github.com/rlerichev/ProjectGitExercise/commits/master)"
   ]
  },
  {
   "cell_type": "code",
   "execution_count": null,
   "metadata": {
    "slideshow": {
     "slide_type": "skip"
    }
   },
   "outputs": [],
   "source": [
    "%%html\n",
    "<embed src=\"https://github.com/rlerichev/ProjectGitExercise/commits/master\" width=1500 height=800>"
   ]
  },
  {
   "cell_type": "markdown",
   "metadata": {
    "slideshow": {
     "slide_type": "slide"
    }
   },
   "source": [
    "Se pueden conocer los cambios realizados a archivos entre la carpeta de trabajo, el *INDEX* y las distintas versiones en el depósito. Para esto existe el comando \"diferenciar\":\n",
    "```bash\n",
    "    > git diff [<commitid>] <file>\n",
    "```\n",
    "donde `<commitid>` es un identificador de  versión, como *HEAD*, *HEAD~3* (tres versiones antes de *HEAD*) o esos números asociados a las versiones  que aparecen cuando se ve la historia (`git log`)."
   ]
  },
  {
   "cell_type": "code",
   "execution_count": 77,
   "metadata": {
    "slideshow": {
     "slide_type": "slide"
    }
   },
   "outputs": [
    {
     "name": "stdout",
     "output_type": "stream",
     "text": [
      "diff --git a/README.md b/README.md\r\n",
      "index f6011ec..bdcea06 100644\r\n",
      "--- a/README.md\r\n",
      "+++ b/README.md\r\n",
      "@@ -3,3 +3,7 @@ Just a little playground to exercising git...\r\n",
      " \r\n",
      " # Example\r\n",
      " XYZ\r\n",
      "+\r\n",
      "+# Authors\r\n",
      "+Renato LEriche\r\n",
      "+\r\n",
      "\n"
     ]
    }
   ],
   "source": [
    "git diff HEAD~2 README.md"
   ]
  },
  {
   "cell_type": "markdown",
   "metadata": {
    "slideshow": {
     "slide_type": "slide"
    }
   },
   "source": [
    "También se puede conocer toda la historia de edición de un archivo. Para esto se usa el comando \"culpar\":\n",
    "```bash\n",
    "    > git blame <file>\n",
    "```\n",
    "Al desarrollar proyectos software es normal cometer errores (se crean *bugs*) y es útil ver que cambios se realizaron desde la última versión funcional, para encontrar el código \"culpable\" (y hasta el colaborador \"culpable\")."
   ]
  },
  {
   "cell_type": "code",
   "execution_count": 78,
   "metadata": {
    "slideshow": {
     "slide_type": "slide"
    }
   },
   "outputs": [
    {
     "name": "stdout",
     "output_type": "stream",
     "text": [
      "^2563594 (Renato Leriche         2020-06-15 21:18:14 -0500 1) # ProjectGitExercise\r\n",
      "d01b2b6e (Renato Leriche Vázquez 2020-06-19 15:00:26 -0500 2) Just a little playground to exercising git...\r\n",
      "d01b2b6e (Renato Leriche Vázquez 2020-06-19 15:00:26 -0500 3) \r\n",
      "d01b2b6e (Renato Leriche Vázquez 2020-06-19 15:00:26 -0500 4) # Example\r\n",
      "d01b2b6e (Renato Leriche Vázquez 2020-06-19 15:00:26 -0500 5) XYZ\r\n",
      "5d0250a5 (Renato Leriche Vázquez 2021-04-16 14:11:19 -0500 6) \r\n",
      "5d0250a5 (Renato Leriche Vázquez 2021-04-16 14:11:19 -0500 7) # Authors\r\n",
      "5d0250a5 (Renato Leriche Vázquez 2021-04-16 14:11:19 -0500 8) Renato LEriche\r\n",
      "5d0250a5 (Renato Leriche Vázquez 2021-04-16 14:11:19 -0500 9) \r\n",
      "\n"
     ]
    }
   ],
   "source": [
    "git blame README.md"
   ]
  },
  {
   "cell_type": "markdown",
   "metadata": {
    "slideshow": {
     "slide_type": "subslide"
    }
   },
   "source": [
    "También se puede ver la historia de cada archivo en ***GitHub***:\n",
    "\n",
    "[github.com/rlerichev/ProjectGitExercise/blame/master/README.md](https://github.com/rlerichev/ProjectGitExercise/blame/master/README.md)"
   ]
  },
  {
   "cell_type": "code",
   "execution_count": null,
   "metadata": {
    "slideshow": {
     "slide_type": "skip"
    }
   },
   "outputs": [],
   "source": [
    "%%html\n",
    "<embed src=\"https://github.com/rlerichev/ProjectGitExercise/blame/master/README.md\" width=1500 height=800>"
   ]
  },
  {
   "cell_type": "markdown",
   "metadata": {
    "slideshow": {
     "slide_type": "slide"
    }
   },
   "source": [
    "En ocasiones es útil regresar archivos a alguna versión pasada, para esto se usa el commando \"revisar afuera\"\n",
    "```bash\n",
    "    > git checkout [<commitid>] -- <file> [<file1> ... <fileN>]\n",
    "```"
   ]
  },
  {
   "cell_type": "code",
   "execution_count": 79,
   "metadata": {
    "slideshow": {
     "slide_type": "slide"
    }
   },
   "outputs": [
    {
     "name": "stdout",
     "output_type": "stream",
     "text": [
      "\n"
     ]
    }
   ],
   "source": [
    "git checkout HEAD~2 -- README.md"
   ]
  },
  {
   "cell_type": "code",
   "execution_count": null,
   "metadata": {},
   "outputs": [],
   "source": [
    "gedit README.md &"
   ]
  },
  {
   "cell_type": "code",
   "execution_count": 80,
   "metadata": {
    "slideshow": {
     "slide_type": "-"
    }
   },
   "outputs": [
    {
     "name": "stdout",
     "output_type": "stream",
     "text": [
      "On branch master\r\n",
      "Your branch is up to date with 'origin/master'.\r\n",
      "\r\n",
      "Changes to be committed:\r\n",
      "  (use \"git restore --staged <file>...\" to unstage)\r\n",
      "\tmodified:   README.md\r\n",
      "\r\n",
      "Changes not staged for commit:\r\n",
      "  (use \"git add <file>...\" to update what will be committed)\r\n",
      "  (use \"git restore <file>...\" to discard changes in working directory)\r\n",
      "\tmodified:   Git+GitHub.ipynb\r\n",
      "\r\n",
      "\n"
     ]
    }
   ],
   "source": [
    "git status"
   ]
  },
  {
   "cell_type": "code",
   "execution_count": 81,
   "metadata": {
    "slideshow": {
     "slide_type": "slide"
    }
   },
   "outputs": [
    {
     "name": "stdout",
     "output_type": "stream",
     "text": [
      "\n"
     ]
    }
   ],
   "source": [
    "git checkout HEAD -- README.md"
   ]
  },
  {
   "cell_type": "code",
   "execution_count": 82,
   "metadata": {},
   "outputs": [
    {
     "name": "stdout",
     "output_type": "stream",
     "text": [
      "On branch master\r\n",
      "Your branch is up to date with 'origin/master'.\r\n",
      "\r\n",
      "Changes not staged for commit:\r\n",
      "  (use \"git add <file>...\" to update what will be committed)\r\n",
      "  (use \"git restore <file>...\" to discard changes in working directory)\r\n",
      "\tmodified:   Git+GitHub.ipynb\r\n",
      "\r\n",
      "no changes added to commit (use \"git add\" and/or \"git commit -a\")\r\n",
      "\n"
     ]
    }
   ],
   "source": [
    "git status"
   ]
  },
  {
   "cell_type": "markdown",
   "metadata": {
    "slideshow": {
     "slide_type": "slide"
    }
   },
   "source": [
    "En casos extremos, también puede regresarse todo en la carpeta de trabajo a versiones anteriores:\n",
    "```bash\n",
    "    > git checkout [<commitid>]\n",
    "```"
   ]
  },
  {
   "cell_type": "code",
   "execution_count": 86,
   "metadata": {
    "scrolled": true,
    "slideshow": {
     "slide_type": "slide"
    }
   },
   "outputs": [
    {
     "name": "stdout",
     "output_type": "stream",
     "text": [
      "Note: switching to 'HEAD~2'.\r\n",
      "\r\n",
      "You are in 'detached HEAD' state. You can look around, make experimental\r\n",
      "changes and commit them, and you can discard any commits you make in this\r\n",
      "state without impacting any branches by switching back to a branch.\r\n",
      "\r\n",
      "If you want to create a new branch to retain commits you create, you may\r\n",
      "do so (now or later) by using -c with the switch command. Example:\r\n",
      "\r\n",
      "  git switch -c <new-branch-name>\r\n",
      "\r\n",
      "Or undo this operation with:\r\n",
      "\r\n",
      "  git switch -\r\n",
      "\r\n",
      "Turn off this advice by setting config variable advice.detachedHead to false\r\n",
      "\r\n",
      "HEAD is now at 5d0250a Created files NEWS.md and test/test.jl. PersonalNotes.txt Added to .gitignore. Authors in README.md\r\n",
      "\n"
     ]
    }
   ],
   "source": [
    "git checkout HEAD~2"
   ]
  },
  {
   "cell_type": "code",
   "execution_count": 88,
   "metadata": {},
   "outputs": [
    {
     "name": "stdout",
     "output_type": "stream",
     "text": [
      "HEAD detached at 5d0250a\r\n",
      "nothing to commit, working tree clean\r\n",
      "\n"
     ]
    }
   ],
   "source": [
    "git status"
   ]
  },
  {
   "cell_type": "markdown",
   "metadata": {
    "slideshow": {
     "slide_type": "slide"
    }
   },
   "source": [
    "Pero podemos regresar fácilmente a la última versión con\n",
    "```bash\n",
    "    > git checkout master\n",
    "```"
   ]
  },
  {
   "cell_type": "code",
   "execution_count": 89,
   "metadata": {
    "slideshow": {
     "slide_type": "slide"
    }
   },
   "outputs": [
    {
     "name": "stdout",
     "output_type": "stream",
     "text": [
      "Previous HEAD position was 5d0250a Created files NEWS.md and test/test.jl. PersonalNotes.txt Added to .gitignore. Authors in README.md\r\n",
      "Switched to branch 'master'\r\n",
      "Your branch is ahead of 'origin/master' by 1 commit.\r\n",
      "  (use \"git push\" to publish your local commits)\r\n",
      "\n"
     ]
    }
   ],
   "source": [
    "git checkout master"
   ]
  },
  {
   "cell_type": "code",
   "execution_count": 90,
   "metadata": {},
   "outputs": [
    {
     "name": "stdout",
     "output_type": "stream",
     "text": [
      "On branch master\r\n",
      "Your branch is ahead of 'origin/master' by 1 commit.\r\n",
      "  (use \"git push\" to publish your local commits)\r\n",
      "\r\n",
      "nothing to commit, working tree clean\r\n",
      "\n"
     ]
    }
   ],
   "source": [
    "git status"
   ]
  },
  {
   "cell_type": "code",
   "execution_count": 91,
   "metadata": {},
   "outputs": [
    {
     "name": "stdout",
     "output_type": "stream",
     "text": [
      "docs   Git+GitHub.ipynb  PersonalNotes.txt  README.md  test\r\n",
      "empty  LICENSE           pics               src\r\n",
      "\n"
     ]
    }
   ],
   "source": [
    "ls"
   ]
  },
  {
   "cell_type": "markdown",
   "metadata": {
    "slideshow": {
     "slide_type": "slide"
    }
   },
   "source": [
    "## Ramas\n",
    "Una funcionalidad muy interesante de ***git*** son las *ramas*. Una rama es un desarrollo paralelo del proyecto creado a partir de algún punto en la historia. Estas ramas también se pueden fusionar con otras en puntos de la historia.\n",
    "\n",
    "Esto es útil para crear desarrollos de códigos de prueba o experimentales, de trabajo paralelo de colaboradores, etc.\n",
    "\n",
    "Por defecto cada depósito se crea inicialmente con la rama principal *master* (o si el depósito es creado en ***GitHub*** la rama principal es *main*)."
   ]
  },
  {
   "cell_type": "markdown",
   "metadata": {
    "slideshow": {
     "slide_type": "slide"
    }
   },
   "source": [
    "<table><td><img src=\"pics/git_branches.png\" style=\"height:600px;\"/></td></table>"
   ]
  },
  {
   "cell_type": "markdown",
   "metadata": {
    "slideshow": {
     "slide_type": "slide"
    }
   },
   "source": [
    "Para mostrar las ramas se utiliza el comando \"rama\"\n",
    "```bash\n",
    "    > git branch\n",
    "```\n",
    "La rama actual se marca con `*`."
   ]
  },
  {
   "cell_type": "code",
   "execution_count": 1,
   "metadata": {},
   "outputs": [
    {
     "name": "stdout",
     "output_type": "stream",
     "text": [
      "* master\r\n",
      "  rlv\r\n",
      "\n"
     ]
    }
   ],
   "source": [
    "git branch"
   ]
  },
  {
   "cell_type": "markdown",
   "metadata": {
    "slideshow": {
     "slide_type": "slide"
    }
   },
   "source": [
    "Para crear una rama a partir de la rama actual utiliza el comando \"ramificar\"\n",
    "```bash\n",
    "    > git branch <name>\n",
    "```\n",
    "donde `<name>` es el nombre de la nueva rama (que no sea *master*)."
   ]
  },
  {
   "cell_type": "code",
   "execution_count": 2,
   "metadata": {
    "slideshow": {
     "slide_type": "slide"
    }
   },
   "outputs": [
    {
     "name": "stdout",
     "output_type": "stream",
     "text": [
      "\n"
     ]
    }
   ],
   "source": [
    "git branch rlv2"
   ]
  },
  {
   "cell_type": "code",
   "execution_count": 3,
   "metadata": {},
   "outputs": [
    {
     "name": "stdout",
     "output_type": "stream",
     "text": [
      "* master\r\n",
      "  rlv\r\n",
      "  rlv2\r\n",
      "\n"
     ]
    }
   ],
   "source": [
    "git branch"
   ]
  },
  {
   "cell_type": "markdown",
   "metadata": {
    "slideshow": {
     "slide_type": "slide"
    }
   },
   "source": [
    "Se puede cambiar el directorio de trabajo a las distintas ramas con el comando \"revisar afuera\":\n",
    "```bash\n",
    "    > git checkout <branch>\n",
    "```\n",
    "donde `<branch>` es el nombre de una rama."
   ]
  },
  {
   "cell_type": "code",
   "execution_count": 4,
   "metadata": {
    "slideshow": {
     "slide_type": "slide"
    }
   },
   "outputs": [
    {
     "name": "stdout",
     "output_type": "stream",
     "text": [
      "M\tGit+GitHub.ipynb\r\n",
      "Switched to branch 'rlv2'\r\n",
      "\n"
     ]
    }
   ],
   "source": [
    "git checkout rlv2"
   ]
  },
  {
   "cell_type": "code",
   "execution_count": 5,
   "metadata": {},
   "outputs": [
    {
     "name": "stdout",
     "output_type": "stream",
     "text": [
      "\n"
     ]
    }
   ],
   "source": [
    "echo \"f(x::Number)=x^2\" > src/fun2.jl"
   ]
  },
  {
   "cell_type": "code",
   "execution_count": 6,
   "metadata": {
    "slideshow": {
     "slide_type": "slide"
    }
   },
   "outputs": [
    {
     "name": "stdout",
     "output_type": "stream",
     "text": [
      "fun2.jl  fun.jl\r\n",
      "\n"
     ]
    }
   ],
   "source": [
    "ls src"
   ]
  },
  {
   "cell_type": "code",
   "execution_count": 9,
   "metadata": {},
   "outputs": [
    {
     "name": "stdout",
     "output_type": "stream",
     "text": [
      " M Git+GitHub.ipynb\r\n",
      "?? src/fun2.jl\r\n",
      "\n"
     ]
    }
   ],
   "source": [
    "git status -s"
   ]
  },
  {
   "cell_type": "code",
   "execution_count": 10,
   "metadata": {
    "slideshow": {
     "slide_type": "slide"
    }
   },
   "outputs": [
    {
     "name": "stdout",
     "output_type": "stream",
     "text": [
      "\n"
     ]
    }
   ],
   "source": [
    "git add src"
   ]
  },
  {
   "cell_type": "code",
   "execution_count": 11,
   "metadata": {},
   "outputs": [
    {
     "name": "stdout",
     "output_type": "stream",
     "text": [
      " M Git+GitHub.ipynb\r\n",
      "A  src/fun2.jl\r\n",
      "\n"
     ]
    }
   ],
   "source": [
    "git status -s"
   ]
  },
  {
   "cell_type": "code",
   "execution_count": 12,
   "metadata": {},
   "outputs": [
    {
     "name": "stdout",
     "output_type": "stream",
     "text": [
      "[rlv2 90d9cff] Branch 'rlv2' initial work.\r\n",
      " 2 files changed, 108 insertions(+), 23 deletions(-)\r\n",
      " create mode 100644 src/fun2.jl\r\n",
      "\n"
     ]
    }
   ],
   "source": [
    "git commit -am \"Branch 'rlv2' initial work.\""
   ]
  },
  {
   "cell_type": "code",
   "execution_count": 13,
   "metadata": {
    "slideshow": {
     "slide_type": "slide"
    }
   },
   "outputs": [
    {
     "name": "stdout",
     "output_type": "stream",
     "text": [
      "Switched to branch 'master'\r\n",
      "Your branch is ahead of 'origin/master' by 2 commits.\r\n",
      "  (use \"git push\" to publish your local commits)\r\n",
      "\n"
     ]
    }
   ],
   "source": [
    "git checkout master"
   ]
  },
  {
   "cell_type": "code",
   "execution_count": 14,
   "metadata": {},
   "outputs": [
    {
     "name": "stdout",
     "output_type": "stream",
     "text": [
      "* master\r\n",
      "  rlv\r\n",
      "  rlv2\r\n",
      "\n"
     ]
    }
   ],
   "source": [
    "git branch"
   ]
  },
  {
   "cell_type": "code",
   "execution_count": 16,
   "metadata": {},
   "outputs": [
    {
     "name": "stdout",
     "output_type": "stream",
     "text": [
      "fun.jl\r\n",
      "\n"
     ]
    }
   ],
   "source": [
    "ls src"
   ]
  },
  {
   "cell_type": "markdown",
   "metadata": {
    "slideshow": {
     "slide_type": "slide"
    }
   },
   "source": [
    "<table><td><img src=\"pics/git_branchmerge.png\" style=\"height:200px;\"/></td></table>\n",
    "\n",
    "Para fusionar la rama actual con otras ramas se usa el comando \"fusionar\":\n",
    "```bash\n",
    "    > git merge <branch> [<branch1> ... <branchN>]\n",
    "```"
   ]
  },
  {
   "cell_type": "code",
   "execution_count": 18,
   "metadata": {},
   "outputs": [
    {
     "name": "stdout",
     "output_type": "stream",
     "text": [
      "[master 0c6da15] Notebook actualizado.\r\n",
      " 1 file changed, 181 insertions(+), 35 deletions(-)\r\n",
      "\n"
     ]
    }
   ],
   "source": [
    "git commit -am \"Notebook actualizado.\""
   ]
  },
  {
   "cell_type": "code",
   "execution_count": 19,
   "metadata": {
    "slideshow": {
     "slide_type": "slide"
    }
   },
   "outputs": [
    {
     "name": "stdout",
     "output_type": "stream",
     "text": [
      "Auto-merging Git+GitHub.ipynb\r\n",
      "error: Terminal is dumb, but EDITOR unset\r\n",
      "Not committing merge; use 'git commit' to complete the merge.\r\n",
      "\n"
     ]
    }
   ],
   "source": [
    "git merge rlv2"
   ]
  },
  {
   "cell_type": "code",
   "execution_count": 21,
   "metadata": {},
   "outputs": [
    {
     "name": "stdout",
     "output_type": "stream",
     "text": [
      "[master 4026917] After fixing conflicts...\r\n",
      "\n"
     ]
    }
   ],
   "source": [
    "git commit -am \"After fixing conflicts...\""
   ]
  },
  {
   "cell_type": "code",
   "execution_count": 22,
   "metadata": {},
   "outputs": [
    {
     "name": "stdout",
     "output_type": "stream",
     "text": [
      "fun2.jl  fun.jl\r\n",
      "\n"
     ]
    }
   ],
   "source": [
    "ls src"
   ]
  },
  {
   "cell_type": "markdown",
   "metadata": {
    "slideshow": {
     "slide_type": "slide"
    }
   },
   "source": [
    "Se pueden borrar ramas:\n",
    "```bash\n",
    "    > git branch -d <name>\n",
    "```\n",
    "\n",
    "Si no hay versiones en la rama `<name>`, se borra la rama sin más.\n",
    "\n",
    "Si hay versiones en la rama `<name>`, se hace una fusión con la rama padre y luego se borra."
   ]
  },
  {
   "cell_type": "code",
   "execution_count": null,
   "metadata": {
    "slideshow": {
     "slide_type": "slide"
    }
   },
   "outputs": [],
   "source": [
    "git push"
   ]
  },
  {
   "cell_type": "code",
   "execution_count": null,
   "metadata": {
    "scrolled": true,
    "slideshow": {
     "slide_type": "skip"
    }
   },
   "outputs": [],
   "source": [
    "%%html\n",
    "<embed src=\"https://github.com/rlerichev/ProjectGitExercise\" width=1500 height=800>"
   ]
  },
  {
   "cell_type": "markdown",
   "metadata": {
    "slideshow": {
     "slide_type": "slide"
    }
   },
   "source": [
    "## El problema de la edición colaborativa\n",
    "<table><td><img src=\"pics/git_colaborative.png\" style=\"height:600px;\"/></td></table>"
   ]
  },
  {
   "cell_type": "markdown",
   "metadata": {
    "slideshow": {
     "slide_type": "slide"
    }
   },
   "source": [
    "<table><td><img src=\"pics/git_conflict.png\" style=\"height:600px;\"/></td></table>"
   ]
  },
  {
   "cell_type": "markdown",
   "metadata": {
    "slideshow": {
     "slide_type": "slide"
    }
   },
   "source": [
    "<table><td><img src=\"pics/git_merge.png\" style=\"height:600px;\"/></td></table>"
   ]
  },
  {
   "cell_type": "markdown",
   "metadata": {
    "slideshow": {
     "slide_type": "slide"
    }
   },
   "source": [
    "## Resolviendo conflictos\n",
    "Afortunadamente ***git*** fusiona los archivos de distintas versiones de manera \"inteligente\" y automática en la mayoría de los casos.\n",
    "\n",
    "Pero en algunos casos ***git*** no puede fusionar por si solo y entonces se dice que hay un *conflicto* de versiones (que requiere intervención humana para resolverse).\n",
    "\n",
    "***git*** notifica los conflictos al intentar una fusión (al usar los comandos `merge` o `pull`)."
   ]
  },
  {
   "cell_type": "code",
   "execution_count": 23,
   "metadata": {
    "slideshow": {
     "slide_type": "slide"
    }
   },
   "outputs": [
    {
     "name": "stdout",
     "output_type": "stream",
     "text": [
      "[1] 9028\r\n",
      "\n"
     ]
    }
   ],
   "source": [
    "gedit src/fun2.jl &"
   ]
  },
  {
   "cell_type": "code",
   "execution_count": 24,
   "metadata": {},
   "outputs": [
    {
     "name": "stdout",
     "output_type": "stream",
     "text": [
      "[master 0391a03] f with z in fun2.jl.\r\n",
      " 2 files changed, 15 insertions(+), 15 deletions(-)\r\n",
      "[1]+  Done                    gedit src/fun2.jl\r\n",
      "\n"
     ]
    }
   ],
   "source": [
    "git commit -am \"f with z in fun2.jl.\""
   ]
  },
  {
   "cell_type": "code",
   "execution_count": 25,
   "metadata": {
    "slideshow": {
     "slide_type": "slide"
    }
   },
   "outputs": [
    {
     "name": "stdout",
     "output_type": "stream",
     "text": [
      "Switched to branch 'rlv2'\r\n",
      "\n"
     ]
    }
   ],
   "source": [
    "git checkout rlv2"
   ]
  },
  {
   "cell_type": "code",
   "execution_count": 26,
   "metadata": {},
   "outputs": [
    {
     "name": "stdout",
     "output_type": "stream",
     "text": [
      "  master\r\n",
      "  rlv\r\n",
      "* rlv2\r\n",
      "\n"
     ]
    }
   ],
   "source": [
    "git branch"
   ]
  },
  {
   "cell_type": "code",
   "execution_count": 27,
   "metadata": {},
   "outputs": [
    {
     "name": "stdout",
     "output_type": "stream",
     "text": [
      "[1] 9052\r\n",
      "\n"
     ]
    }
   ],
   "source": [
    "gedit src/fun2.jl &"
   ]
  },
  {
   "cell_type": "code",
   "execution_count": null,
   "metadata": {
    "slideshow": {
     "slide_type": "slide"
    }
   },
   "outputs": [],
   "source": [
    "git commit -am \"f with y in fun.jl.\""
   ]
  },
  {
   "cell_type": "code",
   "execution_count": null,
   "metadata": {},
   "outputs": [],
   "source": [
    "ls"
   ]
  },
  {
   "cell_type": "code",
   "execution_count": null,
   "metadata": {
    "slideshow": {
     "slide_type": "slide"
    }
   },
   "outputs": [],
   "source": [
    "git branch"
   ]
  },
  {
   "cell_type": "code",
   "execution_count": null,
   "metadata": {},
   "outputs": [],
   "source": [
    "git status"
   ]
  },
  {
   "cell_type": "code",
   "execution_count": null,
   "metadata": {
    "slideshow": {
     "slide_type": "slide"
    }
   },
   "outputs": [],
   "source": [
    "git merge master"
   ]
  },
  {
   "cell_type": "markdown",
   "metadata": {
    "slideshow": {
     "slide_type": "slide"
    }
   },
   "source": [
    "Para revisar los detalles de los conflictos es muy útil el comando \"diferenciar\":\n",
    "- Para ver todas las diferencias con conflictos en la carpeta de trabajo:\n",
    "```bash\n",
    "    > git diff\n",
    "```\n",
    "- Para ver todas las diferencias con conflictos de un archivo, con la versión antes del intento de fusión:\n",
    "```bash\n",
    "    > git diff --base <file>\n",
    "```\n",
    "- Para ver todas las diferencias con conflictos de un archivo, con la versión remota:\n",
    "```bash\n",
    "    > git diff --theirs <file>\n",
    "```\n",
    "- Para ver todas las diferencias con conflictos de un archivo, con la versión local:\n",
    "```bash\n",
    "    > git diff --ours <file>\n",
    "```"
   ]
  },
  {
   "cell_type": "code",
   "execution_count": null,
   "metadata": {
    "slideshow": {
     "slide_type": "slide"
    }
   },
   "outputs": [],
   "source": [
    "git diff"
   ]
  },
  {
   "cell_type": "code",
   "execution_count": null,
   "metadata": {
    "slideshow": {
     "slide_type": "slide"
    }
   },
   "outputs": [],
   "source": [
    "git diff --base src/fun.jl"
   ]
  },
  {
   "cell_type": "code",
   "execution_count": null,
   "metadata": {
    "slideshow": {
     "slide_type": "slide"
    }
   },
   "outputs": [],
   "source": [
    "git diff --theirs src/fun.jl"
   ]
  },
  {
   "cell_type": "code",
   "execution_count": null,
   "metadata": {
    "slideshow": {
     "slide_type": "slide"
    }
   },
   "outputs": [],
   "source": [
    "git diff --ours src/fun.jl"
   ]
  },
  {
   "cell_type": "markdown",
   "metadata": {
    "slideshow": {
     "slide_type": "slide"
    }
   },
   "source": [
    "En para resolver conflictos, se debe hacer lo siguiente:\n",
    "- Para arreglar los archivos hay 3 opciones disjuntas:\n",
    "    - Hacer una edición cuidadosa de los archivos conflictuados para arreglarlos.\n",
    "    - Aceptar los cambios remotos como correctos sobreecribiendo lo local con \n",
    "    ```bash\n",
    "        > git checkout --theirs <file> [<file1> ... <fileN>]\n",
    "    ```\n",
    "    - Indicar que los cambios locales son los correctos con\n",
    "    ```bash\n",
    "        > git checkout --ours <file> [<file1> ... <fileN>]\n",
    "    ```\n",
    "- Añadir con `add` otra vez archivos involucrados en conflictos.\n",
    "- Hacer nueva versión con `commit` indicando que se resolvieron los conflictos."
   ]
  },
  {
   "cell_type": "code",
   "execution_count": null,
   "metadata": {
    "slideshow": {
     "slide_type": "slide"
    }
   },
   "outputs": [],
   "source": [
    "more src/fun.jl"
   ]
  },
  {
   "cell_type": "code",
   "execution_count": null,
   "metadata": {
    "slideshow": {
     "slide_type": "slide"
    }
   },
   "outputs": [],
   "source": [
    "git checkout --theirs src/fun.jl"
   ]
  },
  {
   "cell_type": "code",
   "execution_count": null,
   "metadata": {},
   "outputs": [],
   "source": [
    "git status"
   ]
  },
  {
   "cell_type": "code",
   "execution_count": null,
   "metadata": {
    "slideshow": {
     "slide_type": "slide"
    }
   },
   "outputs": [],
   "source": [
    "git add src/fun.jl"
   ]
  },
  {
   "cell_type": "code",
   "execution_count": null,
   "metadata": {},
   "outputs": [],
   "source": [
    "git status"
   ]
  },
  {
   "cell_type": "code",
   "execution_count": null,
   "metadata": {
    "slideshow": {
     "slide_type": "slide"
    }
   },
   "outputs": [],
   "source": [
    "git commit -m \"Conflict resolved in fun.jl\""
   ]
  },
  {
   "cell_type": "code",
   "execution_count": null,
   "metadata": {},
   "outputs": [],
   "source": [
    "git status"
   ]
  },
  {
   "cell_type": "code",
   "execution_count": null,
   "metadata": {},
   "outputs": [],
   "source": [
    "git checkout master"
   ]
  },
  {
   "cell_type": "markdown",
   "metadata": {
    "slideshow": {
     "slide_type": "slide"
    }
   },
   "source": [
    "## Etiquetar versiones especiales\n",
    "En algún momento de la historia del proyecto, se llegará a una versión con todas las características prometidas y deseadas que debe tener un nombre especial. Para esto se utiliza el comando \"etiquetar\":\n",
    "```bash\n",
    "    > git tag [-m \"<message>\"] <tagname>\n",
    "```\n",
    "donde `<tagname>` es el nombre de la versión especial y `\"<message>\"` la descripción de la versión.\n",
    "\n",
    "También se pueden listar las versiones etiquetadas con\n",
    "```bash\n",
    "    > git tag\n",
    "```"
   ]
  },
  {
   "cell_type": "code",
   "execution_count": null,
   "metadata": {
    "slideshow": {
     "slide_type": "slide"
    }
   },
   "outputs": [],
   "source": [
    "git tag -m \"Finally our first functional version 0.1\" v0.1"
   ]
  },
  {
   "cell_type": "code",
   "execution_count": null,
   "metadata": {},
   "outputs": [],
   "source": [
    "git tag -l"
   ]
  },
  {
   "cell_type": "code",
   "execution_count": null,
   "metadata": {
    "slideshow": {
     "slide_type": "slide"
    }
   },
   "outputs": [],
   "source": [
    "git push"
   ]
  },
  {
   "cell_type": "code",
   "execution_count": null,
   "metadata": {
    "scrolled": false,
    "slideshow": {
     "slide_type": "skip"
    }
   },
   "outputs": [],
   "source": [
    "%%html\n",
    "<embed src=\"https://github.com/rlerichev/ProjectGitExercise\" width=1500 height=800>"
   ]
  },
  {
   "cell_type": "markdown",
   "metadata": {
    "slideshow": {
     "slide_type": "slide"
    }
   },
   "source": [
    "## El ciclo de desarrollo (Proyecto PAPIIT 2020)\n",
    "Primero algunas convenciones:\n",
    "- Nuestro proyecto estará formado varios proyectos-depósitos: `SDDCore.jl`, `SDD.jl`, `SDDIFS.jl`, `SDDGraphics.jl`, etc. Son paquetes que forman un *ecosistema* (que se llama ***SDD***).\n",
    "- La rama *master* es la rama que siempre tendrá la versión funcional de cada proyecto-depósito y se etiquetaran las versiones especiales a partir de ella.\n",
    "- Cada desarrollador de nuestro proyecto tendrá su propia rama en cada proyecto-depósito para realizar sus desarrollos (potencialmente experimentales). Después podrán fusionar su rama con la *master*, cuando se tenga un desarrollo estable."
   ]
  },
  {
   "cell_type": "markdown",
   "metadata": {
    "slideshow": {
     "slide_type": "slide"
    }
   },
   "source": [
    "Antes de que los desarrolladores comiencen a trabajar, lo siguiente deberá estar realizado (por el desarrollador en jefe o el administrador del proyecto, una sóla vez en la vida del proyecto):\n",
    "1. Crear la organización ***Colectivo SDD*** en ***GitHub***, a la que pertenecerán los desarrolladores y se asociarán los proyectos-depósito.\n",
    "2. Crear un proyecto-depósito en ***GitHub*** de cada biblioteca del ecosistema ***SDD*** (que equivale a `git init`). Deberán contener los archivos y carpetas base y convencionales."
   ]
  },
  {
   "cell_type": "markdown",
   "metadata": {
    "slideshow": {
     "slide_type": "slide"
    }
   },
   "source": [
    "Cada desarrollador deberá:\n",
    "1. Abrir una cuenta en ***GitHub***. (Indicar *nombre de usuario* al administrador para ser añadidos a la organización ***Colectivo SDD*** y a los correspondientes proyectos-depósitos).\n",
    "2. Clonar los proyectos-depósito en los que colabora localmente en su computadora. (También habrá clones de los proyectos-depósito en las computadoras del proyecto que se comprarán e inicialmente estarán en el cubículo del Dr. King).\n",
    "3. Crear una rama personal de desarrollo, por ejemplo\n",
    "```bash\n",
    "    > git branch <name>\n",
    "```"
   ]
  },
  {
   "cell_type": "markdown",
   "metadata": {
    "slideshow": {
     "slide_type": "slide"
    }
   },
   "source": [
    "Seguir los siguientes procesos para las sesiones de desarrollo:\n",
    "1. Entrar en su rama de desarrollo:\n",
    "```bash\n",
    "    > git checkout rlv\n",
    "```\n",
    "2. Fusionar la última versión de la rama *master* con la rama de desarrollo, para actualizar archivos:\n",
    "```bash\n",
    "    > git pull origin master\n",
    "```\n",
    "3. Si hay conflictos, resolverlos adecuadamente.\n",
    "4. Crear, editar, mover o renombrar (`git mv`), borrar (`git rm`) archivos y/o carpetas. Aquí se realiza el grueso del trabajo de desarrollo: escribir código, hacer pruebas, corregir...\n",
    "5. Añadir los archivos creados que sean pertientes:\n",
    "```bash\n",
    "    > git add <file1> ... <fileN>\n",
    "```\n",
    "6. Crear una nueva versión local, con su respectivo comentario descriptivo:\n",
    "```bash\n",
    "    > git commit -am \"Bug X repaired. New feature Y developed. Thing Z improved...\"\n",
    "```\n",
    "7. Al final de la sesión de trabajo, enviar la versión al depósito en ***GitHub*** (para tener respaldo del trabajo realizado):\n",
    "```bash\n",
    "    > git push origin rlv\n",
    "```"
   ]
  },
  {
   "cell_type": "markdown",
   "metadata": {
    "slideshow": {
     "slide_type": "subslide"
    }
   },
   "source": [
    "Adicionalmente, si se tiene un \"clon desnudo\" (por ejemplo en una memoria *USB*) se puede hacer respaldo del trabajo con\n",
    "```bash\n",
    "    > git push usb_bk rlv\n",
    "```\n",
    "donde `usb_bk` es el nombre asignado a la ubicación remota del clone desnudo (revisar `git remote`)."
   ]
  },
  {
   "cell_type": "markdown",
   "metadata": {
    "slideshow": {
     "slide_type": "slide"
    }
   },
   "source": [
    "Finalmente, en alguna fase del desarrollo de software se tienen que incorporar los desarrollos particulares de cada colaborador con el principal. Para esto:\n",
    "1. Entrar en la rama *master*:\n",
    "```bash\n",
    "    > git checkout master\n",
    "```\n",
    "2. Obtener la última versión principal:\n",
    "```bash\n",
    "    > git pull\n",
    "```\n",
    "3. Fusionar la rama local de desarrollo con la rama *master*:\n",
    "```bash\n",
    "    > git merge rlv\n",
    "```\n",
    "4. Si hay conflictos, resolverlos adecuadamente.\n",
    "5. Verificar que el software funcione haciendo las pruebas pertientes. Si hay problemas o *bugs*, corregirlos.\n",
    "6. Crear una nueva versión local *master*, con su respectivo comentario descriptivo:\n",
    "```bash\n",
    "    > git commit -am \"New features X,Y,Z. Things A,B,C repaired...\"\n",
    "```\n",
    "7. Enviar la versión nueva al depósito en ***GitHub*** (para compartir con el mundo el trabajo realizado):\n",
    "```bash\n",
    "    > git push\n",
    "```"
   ]
  },
  {
   "cell_type": "markdown",
   "metadata": {
    "slideshow": {
     "slide_type": "slide"
    }
   },
   "source": [
    "## Para saber más..."
   ]
  },
  {
   "cell_type": "code",
   "execution_count": null,
   "metadata": {},
   "outputs": [],
   "source": [
    "%%html\n",
    "<embed src=\"https://git-scm.com/book/es/v2\" width=1500 height=800>"
   ]
  },
  {
   "cell_type": "code",
   "execution_count": null,
   "metadata": {
    "slideshow": {
     "slide_type": "slide"
    }
   },
   "outputs": [],
   "source": [
    "%%html\n",
    "<embed src=\"./docs/pdf/BenLynn-GitMagic_ESP.pdf\" width=1500 height=800>"
   ]
  },
  {
   "cell_type": "code",
   "execution_count": null,
   "metadata": {
    "slideshow": {
     "slide_type": "slide"
    }
   },
   "outputs": [],
   "source": [
    "%%html\n",
    "<embed src=\"./docs/pdf/git-cheat-sheet.pdf\" width=1500 height=800>"
   ]
  },
  {
   "cell_type": "code",
   "execution_count": null,
   "metadata": {},
   "outputs": [],
   "source": []
  }
 ],
 "metadata": {
  "@webio": {
   "lastCommId": null,
   "lastKernelId": null
  },
  "celltoolbar": "Slideshow",
  "kernelspec": {
   "display_name": "Calysto Bash",
   "language": "bash",
   "name": "calysto_bash"
  },
  "language_info": {
   "file_extension": ".sh",
   "help_links": [
    {
     "text": "MetaKernel Magics",
     "url": "https://metakernel.readthedocs.io/en/latest/source/README.html"
    }
   ],
   "mimetype": "text/x-sh",
   "name": "bash",
   "version": "0.2.2"
  }
 },
 "nbformat": 4,
 "nbformat_minor": 4
}
